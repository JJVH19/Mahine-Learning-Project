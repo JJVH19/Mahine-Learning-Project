{
 "cells": [
  {
   "cell_type": "markdown",
   "id": "746ce0b1",
   "metadata": {},
   "source": [
    "# 1 Setup"
   ]
  },
  {
   "cell_type": "markdown",
   "id": "ff7be255",
   "metadata": {},
   "source": [
    "### Dataset Selection done in HW4. Github repo is the same as HW4."
   ]
  },
  {
   "cell_type": "markdown",
   "id": "2744aa95",
   "metadata": {},
   "source": [
    "https://www.kaggle.com/datasets/nileshthonte/car-price-prediction-with-ann"
   ]
  },
  {
   "cell_type": "markdown",
   "id": "f1ab914e",
   "metadata": {},
   "source": [
    "https://www.kaggle.com/datasets/sidharth178/car-prices-dataset?select=train.csv"
   ]
  },
  {
   "cell_type": "markdown",
   "id": "ea781114",
   "metadata": {},
   "source": [
    "# 2 [FINAL] Improvement"
   ]
  },
  {
   "cell_type": "markdown",
   "id": "78dd6303",
   "metadata": {},
   "source": [
    "### Recommendations and feedback may have been received from the course staff or Homework 4. Failure to implement the changes will result in a10-point penalty apart from the regular penalty for the wrong/incorrect approach. If no feedback or recommendations are received, 10 points will be awarded automatically since you did it well the first time around. If you have received recommendations and feedback, in a numbered list below, mention the feedback received and the actions taken. Make the actual changes in the appropriate sections of the notebook."
   ]
  },
  {
   "cell_type": "markdown",
   "id": "f0f092a2",
   "metadata": {},
   "source": [
    "- 1) outlier detection: label x and y axis\n",
    "- 2) data viz: make a more informative second graph\n",
    "- 3) possibly try a different test data split size"
   ]
  },
  {
   "cell_type": "markdown",
   "id": "b14975e9",
   "metadata": {},
   "source": [
    "# 3 [HW4] Data Collection"
   ]
  },
  {
   "cell_type": "markdown",
   "id": "2def448d",
   "metadata": {},
   "source": [
    "## 3.1 Dataset Description"
   ]
  },
  {
   "cell_type": "markdown",
   "id": "5262bdd1",
   "metadata": {},
   "source": [
    "### Write a short description of the dataset (200-word minimum)."
   ]
  },
  {
   "cell_type": "markdown",
   "id": "14df77bc",
   "metadata": {},
   "source": [
    "The dataset, car_purchasing, contains the data that I will train. Although it contains columns such as, customer name, customer email, country and gender, the focus from this dataset will be the age, annual salary, credit card debt, net worth, and car purchase amount. The dataset has Nilesh Thonte as the owner. The dataset does seem to get updated frequently, as the most recent update as 14 days ago from today, July 30th, 2023. However, I am not depending on only this dataset to do everything I need to do. As my question states, I am going to train this model from the car_purchase dataset and use those results to give the user a range of cars based on their inputs for the features from the said model. For that, I will be using another dataset called train. This dataset contains information about cars such as their brand, manufacturer, model etc. The main column I will use from this dataset is its price column. Given an output from the model, it will display all the cars within the range of the model's output to display to the user, based on what the category and fuel type from the train dataset. The owner of the train and test dataset is Sidharth Kumar Mohanty. This dataset is not updated very frequently, as its las update was 2 years ago from today, July 30th, 2023."
   ]
  },
  {
   "cell_type": "markdown",
   "id": "86605753",
   "metadata": {},
   "source": [
    "## 3.2 Dataset Download"
   ]
  },
  {
   "cell_type": "code",
   "execution_count": 1,
   "id": "ae880174",
   "metadata": {},
   "outputs": [],
   "source": [
    "import pandas as pd"
   ]
  },
  {
   "cell_type": "code",
   "execution_count": 2,
   "id": "f0660218",
   "metadata": {},
   "outputs": [],
   "source": [
    "data_df_purchase = pd.read_csv(\"car_purchasing.csv\",encoding='ISO-8859-1')"
   ]
  },
  {
   "cell_type": "code",
   "execution_count": 3,
   "id": "43ad215b",
   "metadata": {},
   "outputs": [
    {
     "data": {
      "text/html": [
       "<div>\n",
       "<style scoped>\n",
       "    .dataframe tbody tr th:only-of-type {\n",
       "        vertical-align: middle;\n",
       "    }\n",
       "\n",
       "    .dataframe tbody tr th {\n",
       "        vertical-align: top;\n",
       "    }\n",
       "\n",
       "    .dataframe thead th {\n",
       "        text-align: right;\n",
       "    }\n",
       "</style>\n",
       "<table border=\"1\" class=\"dataframe\">\n",
       "  <thead>\n",
       "    <tr style=\"text-align: right;\">\n",
       "      <th></th>\n",
       "      <th>customer name</th>\n",
       "      <th>customer e-mail</th>\n",
       "      <th>country</th>\n",
       "      <th>gender</th>\n",
       "      <th>age</th>\n",
       "      <th>annual Salary</th>\n",
       "      <th>credit card debt</th>\n",
       "      <th>net worth</th>\n",
       "      <th>car purchase amount</th>\n",
       "    </tr>\n",
       "  </thead>\n",
       "  <tbody>\n",
       "    <tr>\n",
       "      <th>0</th>\n",
       "      <td>Martina Avila</td>\n",
       "      <td>cubilia.Curae.Phasellus@quisaccumsanconvallis.edu</td>\n",
       "      <td>Bulgaria</td>\n",
       "      <td>0</td>\n",
       "      <td>41.851720</td>\n",
       "      <td>62812.09301</td>\n",
       "      <td>11609.380910</td>\n",
       "      <td>238961.2505</td>\n",
       "      <td>35321.45877</td>\n",
       "    </tr>\n",
       "    <tr>\n",
       "      <th>1</th>\n",
       "      <td>Harlan Barnes</td>\n",
       "      <td>eu.dolor@diam.co.uk</td>\n",
       "      <td>Belize</td>\n",
       "      <td>0</td>\n",
       "      <td>40.870623</td>\n",
       "      <td>66646.89292</td>\n",
       "      <td>9572.957136</td>\n",
       "      <td>530973.9078</td>\n",
       "      <td>45115.52566</td>\n",
       "    </tr>\n",
       "    <tr>\n",
       "      <th>2</th>\n",
       "      <td>Naomi Rodriquez</td>\n",
       "      <td>vulputate.mauris.sagittis@ametconsectetueradip...</td>\n",
       "      <td>Algeria</td>\n",
       "      <td>1</td>\n",
       "      <td>43.152897</td>\n",
       "      <td>53798.55112</td>\n",
       "      <td>11160.355060</td>\n",
       "      <td>638467.1773</td>\n",
       "      <td>42925.70921</td>\n",
       "    </tr>\n",
       "    <tr>\n",
       "      <th>3</th>\n",
       "      <td>Jade Cunningham</td>\n",
       "      <td>malesuada@dignissim.com</td>\n",
       "      <td>Cook Islands</td>\n",
       "      <td>1</td>\n",
       "      <td>58.271369</td>\n",
       "      <td>79370.03798</td>\n",
       "      <td>14426.164850</td>\n",
       "      <td>548599.0524</td>\n",
       "      <td>67422.36313</td>\n",
       "    </tr>\n",
       "    <tr>\n",
       "      <th>4</th>\n",
       "      <td>Cedric Leach</td>\n",
       "      <td>felis.ullamcorper.viverra@egetmollislectus.net</td>\n",
       "      <td>Brazil</td>\n",
       "      <td>1</td>\n",
       "      <td>57.313749</td>\n",
       "      <td>59729.15130</td>\n",
       "      <td>5358.712177</td>\n",
       "      <td>560304.0671</td>\n",
       "      <td>55915.46248</td>\n",
       "    </tr>\n",
       "    <tr>\n",
       "      <th>...</th>\n",
       "      <td>...</td>\n",
       "      <td>...</td>\n",
       "      <td>...</td>\n",
       "      <td>...</td>\n",
       "      <td>...</td>\n",
       "      <td>...</td>\n",
       "      <td>...</td>\n",
       "      <td>...</td>\n",
       "      <td>...</td>\n",
       "    </tr>\n",
       "    <tr>\n",
       "      <th>495</th>\n",
       "      <td>Walter</td>\n",
       "      <td>ligula@Cumsociis.ca</td>\n",
       "      <td>Nepal</td>\n",
       "      <td>0</td>\n",
       "      <td>41.462515</td>\n",
       "      <td>71942.40291</td>\n",
       "      <td>6995.902524</td>\n",
       "      <td>541670.1016</td>\n",
       "      <td>48901.44342</td>\n",
       "    </tr>\n",
       "    <tr>\n",
       "      <th>496</th>\n",
       "      <td>Vanna</td>\n",
       "      <td>Cum.sociis.natoque@Sedmolestie.edu</td>\n",
       "      <td>Zimbabwe</td>\n",
       "      <td>1</td>\n",
       "      <td>37.642000</td>\n",
       "      <td>56039.49793</td>\n",
       "      <td>12301.456790</td>\n",
       "      <td>360419.0988</td>\n",
       "      <td>31491.41457</td>\n",
       "    </tr>\n",
       "    <tr>\n",
       "      <th>497</th>\n",
       "      <td>Pearl</td>\n",
       "      <td>penatibus.et@massanonante.com</td>\n",
       "      <td>Philippines</td>\n",
       "      <td>1</td>\n",
       "      <td>53.943497</td>\n",
       "      <td>68888.77805</td>\n",
       "      <td>10611.606860</td>\n",
       "      <td>764531.3203</td>\n",
       "      <td>64147.28888</td>\n",
       "    </tr>\n",
       "    <tr>\n",
       "      <th>498</th>\n",
       "      <td>Nell</td>\n",
       "      <td>Quisque.varius@arcuVivamussit.net</td>\n",
       "      <td>Botswana</td>\n",
       "      <td>1</td>\n",
       "      <td>59.160509</td>\n",
       "      <td>49811.99062</td>\n",
       "      <td>14013.034510</td>\n",
       "      <td>337826.6382</td>\n",
       "      <td>45442.15353</td>\n",
       "    </tr>\n",
       "    <tr>\n",
       "      <th>499</th>\n",
       "      <td>Marla</td>\n",
       "      <td>Camaron.marla@hotmail.com</td>\n",
       "      <td>marlal</td>\n",
       "      <td>1</td>\n",
       "      <td>46.731152</td>\n",
       "      <td>61370.67766</td>\n",
       "      <td>9391.341628</td>\n",
       "      <td>462946.4924</td>\n",
       "      <td>45107.22566</td>\n",
       "    </tr>\n",
       "  </tbody>\n",
       "</table>\n",
       "<p>500 rows × 9 columns</p>\n",
       "</div>"
      ],
      "text/plain": [
       "       customer name                                    customer e-mail  \\\n",
       "0      Martina Avila  cubilia.Curae.Phasellus@quisaccumsanconvallis.edu   \n",
       "1      Harlan Barnes                                eu.dolor@diam.co.uk   \n",
       "2    Naomi Rodriquez  vulputate.mauris.sagittis@ametconsectetueradip...   \n",
       "3    Jade Cunningham                            malesuada@dignissim.com   \n",
       "4       Cedric Leach     felis.ullamcorper.viverra@egetmollislectus.net   \n",
       "..               ...                                                ...   \n",
       "495           Walter                                ligula@Cumsociis.ca   \n",
       "496            Vanna                 Cum.sociis.natoque@Sedmolestie.edu   \n",
       "497            Pearl                      penatibus.et@massanonante.com   \n",
       "498             Nell                  Quisque.varius@arcuVivamussit.net   \n",
       "499            Marla                          Camaron.marla@hotmail.com   \n",
       "\n",
       "          country  gender        age  annual Salary  credit card debt  \\\n",
       "0        Bulgaria       0  41.851720    62812.09301      11609.380910   \n",
       "1          Belize       0  40.870623    66646.89292       9572.957136   \n",
       "2         Algeria       1  43.152897    53798.55112      11160.355060   \n",
       "3    Cook Islands       1  58.271369    79370.03798      14426.164850   \n",
       "4          Brazil       1  57.313749    59729.15130       5358.712177   \n",
       "..            ...     ...        ...            ...               ...   \n",
       "495         Nepal       0  41.462515    71942.40291       6995.902524   \n",
       "496      Zimbabwe       1  37.642000    56039.49793      12301.456790   \n",
       "497   Philippines       1  53.943497    68888.77805      10611.606860   \n",
       "498      Botswana       1  59.160509    49811.99062      14013.034510   \n",
       "499        marlal       1  46.731152    61370.67766       9391.341628   \n",
       "\n",
       "       net worth  car purchase amount  \n",
       "0    238961.2505          35321.45877  \n",
       "1    530973.9078          45115.52566  \n",
       "2    638467.1773          42925.70921  \n",
       "3    548599.0524          67422.36313  \n",
       "4    560304.0671          55915.46248  \n",
       "..           ...                  ...  \n",
       "495  541670.1016          48901.44342  \n",
       "496  360419.0988          31491.41457  \n",
       "497  764531.3203          64147.28888  \n",
       "498  337826.6382          45442.15353  \n",
       "499  462946.4924          45107.22566  \n",
       "\n",
       "[500 rows x 9 columns]"
      ]
     },
     "execution_count": 3,
     "metadata": {},
     "output_type": "execute_result"
    }
   ],
   "source": [
    "data_df_purchase"
   ]
  },
  {
   "cell_type": "code",
   "execution_count": 4,
   "id": "db075309",
   "metadata": {},
   "outputs": [],
   "source": [
    "data_df_train = pd.read_csv(\"train.csv\",encoding='ISO-8859-1')"
   ]
  },
  {
   "cell_type": "code",
   "execution_count": 5,
   "id": "1b4ce5f2",
   "metadata": {},
   "outputs": [
    {
     "data": {
      "text/html": [
       "<div>\n",
       "<style scoped>\n",
       "    .dataframe tbody tr th:only-of-type {\n",
       "        vertical-align: middle;\n",
       "    }\n",
       "\n",
       "    .dataframe tbody tr th {\n",
       "        vertical-align: top;\n",
       "    }\n",
       "\n",
       "    .dataframe thead th {\n",
       "        text-align: right;\n",
       "    }\n",
       "</style>\n",
       "<table border=\"1\" class=\"dataframe\">\n",
       "  <thead>\n",
       "    <tr style=\"text-align: right;\">\n",
       "      <th></th>\n",
       "      <th>ID</th>\n",
       "      <th>Price</th>\n",
       "      <th>Levy</th>\n",
       "      <th>Manufacturer</th>\n",
       "      <th>Model</th>\n",
       "      <th>Prod. year</th>\n",
       "      <th>Category</th>\n",
       "      <th>Leather interior</th>\n",
       "      <th>Fuel type</th>\n",
       "      <th>Engine volume</th>\n",
       "      <th>Mileage</th>\n",
       "      <th>Cylinders</th>\n",
       "      <th>Gear box type</th>\n",
       "      <th>Drive wheels</th>\n",
       "      <th>Doors</th>\n",
       "      <th>Wheel</th>\n",
       "      <th>Color</th>\n",
       "      <th>Airbags</th>\n",
       "    </tr>\n",
       "  </thead>\n",
       "  <tbody>\n",
       "    <tr>\n",
       "      <th>0</th>\n",
       "      <td>45654403</td>\n",
       "      <td>13328</td>\n",
       "      <td>1399</td>\n",
       "      <td>LEXUS</td>\n",
       "      <td>RX 450</td>\n",
       "      <td>2010</td>\n",
       "      <td>Jeep</td>\n",
       "      <td>Yes</td>\n",
       "      <td>Hybrid</td>\n",
       "      <td>3.5</td>\n",
       "      <td>186005 km</td>\n",
       "      <td>6.0</td>\n",
       "      <td>Automatic</td>\n",
       "      <td>4x4</td>\n",
       "      <td>04-May</td>\n",
       "      <td>Left wheel</td>\n",
       "      <td>Silver</td>\n",
       "      <td>12</td>\n",
       "    </tr>\n",
       "    <tr>\n",
       "      <th>1</th>\n",
       "      <td>44731507</td>\n",
       "      <td>16621</td>\n",
       "      <td>1018</td>\n",
       "      <td>CHEVROLET</td>\n",
       "      <td>Equinox</td>\n",
       "      <td>2011</td>\n",
       "      <td>Jeep</td>\n",
       "      <td>No</td>\n",
       "      <td>Petrol</td>\n",
       "      <td>3</td>\n",
       "      <td>192000 km</td>\n",
       "      <td>6.0</td>\n",
       "      <td>Tiptronic</td>\n",
       "      <td>4x4</td>\n",
       "      <td>04-May</td>\n",
       "      <td>Left wheel</td>\n",
       "      <td>Black</td>\n",
       "      <td>8</td>\n",
       "    </tr>\n",
       "    <tr>\n",
       "      <th>2</th>\n",
       "      <td>45774419</td>\n",
       "      <td>8467</td>\n",
       "      <td>-</td>\n",
       "      <td>HONDA</td>\n",
       "      <td>FIT</td>\n",
       "      <td>2006</td>\n",
       "      <td>Hatchback</td>\n",
       "      <td>No</td>\n",
       "      <td>Petrol</td>\n",
       "      <td>1.3</td>\n",
       "      <td>200000 km</td>\n",
       "      <td>4.0</td>\n",
       "      <td>Variator</td>\n",
       "      <td>Front</td>\n",
       "      <td>04-May</td>\n",
       "      <td>Right-hand drive</td>\n",
       "      <td>Black</td>\n",
       "      <td>2</td>\n",
       "    </tr>\n",
       "    <tr>\n",
       "      <th>3</th>\n",
       "      <td>45769185</td>\n",
       "      <td>3607</td>\n",
       "      <td>862</td>\n",
       "      <td>FORD</td>\n",
       "      <td>Escape</td>\n",
       "      <td>2011</td>\n",
       "      <td>Jeep</td>\n",
       "      <td>Yes</td>\n",
       "      <td>Hybrid</td>\n",
       "      <td>2.5</td>\n",
       "      <td>168966 km</td>\n",
       "      <td>4.0</td>\n",
       "      <td>Automatic</td>\n",
       "      <td>4x4</td>\n",
       "      <td>04-May</td>\n",
       "      <td>Left wheel</td>\n",
       "      <td>White</td>\n",
       "      <td>0</td>\n",
       "    </tr>\n",
       "    <tr>\n",
       "      <th>4</th>\n",
       "      <td>45809263</td>\n",
       "      <td>11726</td>\n",
       "      <td>446</td>\n",
       "      <td>HONDA</td>\n",
       "      <td>FIT</td>\n",
       "      <td>2014</td>\n",
       "      <td>Hatchback</td>\n",
       "      <td>Yes</td>\n",
       "      <td>Petrol</td>\n",
       "      <td>1.3</td>\n",
       "      <td>91901 km</td>\n",
       "      <td>4.0</td>\n",
       "      <td>Automatic</td>\n",
       "      <td>Front</td>\n",
       "      <td>04-May</td>\n",
       "      <td>Left wheel</td>\n",
       "      <td>Silver</td>\n",
       "      <td>4</td>\n",
       "    </tr>\n",
       "    <tr>\n",
       "      <th>...</th>\n",
       "      <td>...</td>\n",
       "      <td>...</td>\n",
       "      <td>...</td>\n",
       "      <td>...</td>\n",
       "      <td>...</td>\n",
       "      <td>...</td>\n",
       "      <td>...</td>\n",
       "      <td>...</td>\n",
       "      <td>...</td>\n",
       "      <td>...</td>\n",
       "      <td>...</td>\n",
       "      <td>...</td>\n",
       "      <td>...</td>\n",
       "      <td>...</td>\n",
       "      <td>...</td>\n",
       "      <td>...</td>\n",
       "      <td>...</td>\n",
       "      <td>...</td>\n",
       "    </tr>\n",
       "    <tr>\n",
       "      <th>19232</th>\n",
       "      <td>45798355</td>\n",
       "      <td>8467</td>\n",
       "      <td>-</td>\n",
       "      <td>MERCEDES-BENZ</td>\n",
       "      <td>CLK 200</td>\n",
       "      <td>1999</td>\n",
       "      <td>Coupe</td>\n",
       "      <td>Yes</td>\n",
       "      <td>CNG</td>\n",
       "      <td>2.0 Turbo</td>\n",
       "      <td>300000 km</td>\n",
       "      <td>4.0</td>\n",
       "      <td>Manual</td>\n",
       "      <td>Rear</td>\n",
       "      <td>02-Mar</td>\n",
       "      <td>Left wheel</td>\n",
       "      <td>Silver</td>\n",
       "      <td>5</td>\n",
       "    </tr>\n",
       "    <tr>\n",
       "      <th>19233</th>\n",
       "      <td>45778856</td>\n",
       "      <td>15681</td>\n",
       "      <td>831</td>\n",
       "      <td>HYUNDAI</td>\n",
       "      <td>Sonata</td>\n",
       "      <td>2011</td>\n",
       "      <td>Sedan</td>\n",
       "      <td>Yes</td>\n",
       "      <td>Petrol</td>\n",
       "      <td>2.4</td>\n",
       "      <td>161600 km</td>\n",
       "      <td>4.0</td>\n",
       "      <td>Tiptronic</td>\n",
       "      <td>Front</td>\n",
       "      <td>04-May</td>\n",
       "      <td>Left wheel</td>\n",
       "      <td>Red</td>\n",
       "      <td>8</td>\n",
       "    </tr>\n",
       "    <tr>\n",
       "      <th>19234</th>\n",
       "      <td>45804997</td>\n",
       "      <td>26108</td>\n",
       "      <td>836</td>\n",
       "      <td>HYUNDAI</td>\n",
       "      <td>Tucson</td>\n",
       "      <td>2010</td>\n",
       "      <td>Jeep</td>\n",
       "      <td>Yes</td>\n",
       "      <td>Diesel</td>\n",
       "      <td>2</td>\n",
       "      <td>116365 km</td>\n",
       "      <td>4.0</td>\n",
       "      <td>Automatic</td>\n",
       "      <td>Front</td>\n",
       "      <td>04-May</td>\n",
       "      <td>Left wheel</td>\n",
       "      <td>Grey</td>\n",
       "      <td>4</td>\n",
       "    </tr>\n",
       "    <tr>\n",
       "      <th>19235</th>\n",
       "      <td>45793526</td>\n",
       "      <td>5331</td>\n",
       "      <td>1288</td>\n",
       "      <td>CHEVROLET</td>\n",
       "      <td>Captiva</td>\n",
       "      <td>2007</td>\n",
       "      <td>Jeep</td>\n",
       "      <td>Yes</td>\n",
       "      <td>Diesel</td>\n",
       "      <td>2</td>\n",
       "      <td>51258 km</td>\n",
       "      <td>4.0</td>\n",
       "      <td>Automatic</td>\n",
       "      <td>Front</td>\n",
       "      <td>04-May</td>\n",
       "      <td>Left wheel</td>\n",
       "      <td>Black</td>\n",
       "      <td>4</td>\n",
       "    </tr>\n",
       "    <tr>\n",
       "      <th>19236</th>\n",
       "      <td>45813273</td>\n",
       "      <td>470</td>\n",
       "      <td>753</td>\n",
       "      <td>HYUNDAI</td>\n",
       "      <td>Sonata</td>\n",
       "      <td>2012</td>\n",
       "      <td>Sedan</td>\n",
       "      <td>Yes</td>\n",
       "      <td>Hybrid</td>\n",
       "      <td>2.4</td>\n",
       "      <td>186923 km</td>\n",
       "      <td>4.0</td>\n",
       "      <td>Automatic</td>\n",
       "      <td>Front</td>\n",
       "      <td>04-May</td>\n",
       "      <td>Left wheel</td>\n",
       "      <td>White</td>\n",
       "      <td>12</td>\n",
       "    </tr>\n",
       "  </tbody>\n",
       "</table>\n",
       "<p>19237 rows × 18 columns</p>\n",
       "</div>"
      ],
      "text/plain": [
       "             ID  Price  Levy   Manufacturer    Model  Prod. year   Category  \\\n",
       "0      45654403  13328  1399          LEXUS   RX 450        2010       Jeep   \n",
       "1      44731507  16621  1018      CHEVROLET  Equinox        2011       Jeep   \n",
       "2      45774419   8467     -          HONDA      FIT        2006  Hatchback   \n",
       "3      45769185   3607   862           FORD   Escape        2011       Jeep   \n",
       "4      45809263  11726   446          HONDA      FIT        2014  Hatchback   \n",
       "...         ...    ...   ...            ...      ...         ...        ...   \n",
       "19232  45798355   8467     -  MERCEDES-BENZ  CLK 200        1999      Coupe   \n",
       "19233  45778856  15681   831        HYUNDAI   Sonata        2011      Sedan   \n",
       "19234  45804997  26108   836        HYUNDAI   Tucson        2010       Jeep   \n",
       "19235  45793526   5331  1288      CHEVROLET  Captiva        2007       Jeep   \n",
       "19236  45813273    470   753        HYUNDAI   Sonata        2012      Sedan   \n",
       "\n",
       "      Leather interior Fuel type Engine volume    Mileage  Cylinders  \\\n",
       "0                  Yes    Hybrid           3.5  186005 km        6.0   \n",
       "1                   No    Petrol             3  192000 km        6.0   \n",
       "2                   No    Petrol           1.3  200000 km        4.0   \n",
       "3                  Yes    Hybrid           2.5  168966 km        4.0   \n",
       "4                  Yes    Petrol           1.3   91901 km        4.0   \n",
       "...                ...       ...           ...        ...        ...   \n",
       "19232              Yes       CNG     2.0 Turbo  300000 km        4.0   \n",
       "19233              Yes    Petrol           2.4  161600 km        4.0   \n",
       "19234              Yes    Diesel             2  116365 km        4.0   \n",
       "19235              Yes    Diesel             2   51258 km        4.0   \n",
       "19236              Yes    Hybrid           2.4  186923 km        4.0   \n",
       "\n",
       "      Gear box type Drive wheels   Doors             Wheel   Color  Airbags  \n",
       "0         Automatic          4x4  04-May        Left wheel  Silver       12  \n",
       "1         Tiptronic          4x4  04-May        Left wheel   Black        8  \n",
       "2          Variator        Front  04-May  Right-hand drive   Black        2  \n",
       "3         Automatic          4x4  04-May        Left wheel   White        0  \n",
       "4         Automatic        Front  04-May        Left wheel  Silver        4  \n",
       "...             ...          ...     ...               ...     ...      ...  \n",
       "19232        Manual         Rear  02-Mar        Left wheel  Silver        5  \n",
       "19233     Tiptronic        Front  04-May        Left wheel     Red        8  \n",
       "19234     Automatic        Front  04-May        Left wheel    Grey        4  \n",
       "19235     Automatic        Front  04-May        Left wheel   Black        4  \n",
       "19236     Automatic        Front  04-May        Left wheel   White       12  \n",
       "\n",
       "[19237 rows x 18 columns]"
      ]
     },
     "execution_count": 5,
     "metadata": {},
     "output_type": "execute_result"
    }
   ],
   "source": [
    "data_df_train"
   ]
  },
  {
   "cell_type": "code",
   "execution_count": 6,
   "id": "acc8b7c3",
   "metadata": {},
   "outputs": [],
   "source": [
    "data_df_test = pd.read_csv(\"test.csv\",encoding='ISO-8859-1')"
   ]
  },
  {
   "cell_type": "code",
   "execution_count": 7,
   "id": "afbb1535",
   "metadata": {},
   "outputs": [
    {
     "data": {
      "text/html": [
       "<div>\n",
       "<style scoped>\n",
       "    .dataframe tbody tr th:only-of-type {\n",
       "        vertical-align: middle;\n",
       "    }\n",
       "\n",
       "    .dataframe tbody tr th {\n",
       "        vertical-align: top;\n",
       "    }\n",
       "\n",
       "    .dataframe thead th {\n",
       "        text-align: right;\n",
       "    }\n",
       "</style>\n",
       "<table border=\"1\" class=\"dataframe\">\n",
       "  <thead>\n",
       "    <tr style=\"text-align: right;\">\n",
       "      <th></th>\n",
       "      <th>ID</th>\n",
       "      <th>Levy</th>\n",
       "      <th>Manufacturer</th>\n",
       "      <th>Model</th>\n",
       "      <th>Prod. year</th>\n",
       "      <th>Category</th>\n",
       "      <th>Leather interior</th>\n",
       "      <th>Fuel type</th>\n",
       "      <th>Engine volume</th>\n",
       "      <th>Mileage</th>\n",
       "      <th>Cylinders</th>\n",
       "      <th>Gear box type</th>\n",
       "      <th>Drive wheels</th>\n",
       "      <th>Doors</th>\n",
       "      <th>Wheel</th>\n",
       "      <th>Color</th>\n",
       "      <th>Airbags</th>\n",
       "      <th>Price</th>\n",
       "    </tr>\n",
       "  </thead>\n",
       "  <tbody>\n",
       "    <tr>\n",
       "      <th>0</th>\n",
       "      <td>44020629</td>\n",
       "      <td>-</td>\n",
       "      <td>VOLKSWAGEN</td>\n",
       "      <td>Golf</td>\n",
       "      <td>2012</td>\n",
       "      <td>Hatchback</td>\n",
       "      <td>No</td>\n",
       "      <td>Diesel</td>\n",
       "      <td>2.0 Turbo</td>\n",
       "      <td>0 km</td>\n",
       "      <td>4</td>\n",
       "      <td>Manual</td>\n",
       "      <td>Front</td>\n",
       "      <td>02-Mar</td>\n",
       "      <td>Left wheel</td>\n",
       "      <td>Grey</td>\n",
       "      <td>10</td>\n",
       "      <td>NaN</td>\n",
       "    </tr>\n",
       "    <tr>\n",
       "      <th>1</th>\n",
       "      <td>45784798</td>\n",
       "      <td>-</td>\n",
       "      <td>HYUNDAI</td>\n",
       "      <td>Sonata</td>\n",
       "      <td>2012</td>\n",
       "      <td>Sedan</td>\n",
       "      <td>Yes</td>\n",
       "      <td>Petrol</td>\n",
       "      <td>2.4</td>\n",
       "      <td>26000 km</td>\n",
       "      <td>4</td>\n",
       "      <td>Tiptronic</td>\n",
       "      <td>Front</td>\n",
       "      <td>04-May</td>\n",
       "      <td>Left wheel</td>\n",
       "      <td>Grey</td>\n",
       "      <td>10</td>\n",
       "      <td>NaN</td>\n",
       "    </tr>\n",
       "    <tr>\n",
       "      <th>2</th>\n",
       "      <td>45800257</td>\n",
       "      <td>-</td>\n",
       "      <td>NISSAN</td>\n",
       "      <td>Tiida</td>\n",
       "      <td>2005</td>\n",
       "      <td>Sedan</td>\n",
       "      <td>No</td>\n",
       "      <td>Petrol</td>\n",
       "      <td>1.5</td>\n",
       "      <td>168000 km</td>\n",
       "      <td>4</td>\n",
       "      <td>Automatic</td>\n",
       "      <td>Front</td>\n",
       "      <td>04-May</td>\n",
       "      <td>Right-hand drive</td>\n",
       "      <td>Sky blue</td>\n",
       "      <td>8</td>\n",
       "      <td>NaN</td>\n",
       "    </tr>\n",
       "    <tr>\n",
       "      <th>3</th>\n",
       "      <td>45797981</td>\n",
       "      <td>975</td>\n",
       "      <td>VOLVO</td>\n",
       "      <td>XC90</td>\n",
       "      <td>2012</td>\n",
       "      <td>Jeep</td>\n",
       "      <td>Yes</td>\n",
       "      <td>Petrol</td>\n",
       "      <td>3.2</td>\n",
       "      <td>143000 km</td>\n",
       "      <td>6</td>\n",
       "      <td>Automatic</td>\n",
       "      <td>4x4</td>\n",
       "      <td>04-May</td>\n",
       "      <td>Left wheel</td>\n",
       "      <td>Blue</td>\n",
       "      <td>12</td>\n",
       "      <td>NaN</td>\n",
       "    </tr>\n",
       "    <tr>\n",
       "      <th>4</th>\n",
       "      <td>45814303</td>\n",
       "      <td>-</td>\n",
       "      <td>OPEL</td>\n",
       "      <td>Astra</td>\n",
       "      <td>1993</td>\n",
       "      <td>Hatchback</td>\n",
       "      <td>No</td>\n",
       "      <td>Petrol</td>\n",
       "      <td>1.6</td>\n",
       "      <td>200000 km</td>\n",
       "      <td>4</td>\n",
       "      <td>Manual</td>\n",
       "      <td>Front</td>\n",
       "      <td>04-May</td>\n",
       "      <td>Left wheel</td>\n",
       "      <td>Black</td>\n",
       "      <td>0</td>\n",
       "      <td>NaN</td>\n",
       "    </tr>\n",
       "    <tr>\n",
       "      <th>...</th>\n",
       "      <td>...</td>\n",
       "      <td>...</td>\n",
       "      <td>...</td>\n",
       "      <td>...</td>\n",
       "      <td>...</td>\n",
       "      <td>...</td>\n",
       "      <td>...</td>\n",
       "      <td>...</td>\n",
       "      <td>...</td>\n",
       "      <td>...</td>\n",
       "      <td>...</td>\n",
       "      <td>...</td>\n",
       "      <td>...</td>\n",
       "      <td>...</td>\n",
       "      <td>...</td>\n",
       "      <td>...</td>\n",
       "      <td>...</td>\n",
       "      <td>...</td>\n",
       "    </tr>\n",
       "    <tr>\n",
       "      <th>8240</th>\n",
       "      <td>44824410</td>\n",
       "      <td>1357</td>\n",
       "      <td>FIAT</td>\n",
       "      <td>Stilo</td>\n",
       "      <td>2004</td>\n",
       "      <td>Universal</td>\n",
       "      <td>No</td>\n",
       "      <td>Petrol</td>\n",
       "      <td>1.6</td>\n",
       "      <td>164000 km</td>\n",
       "      <td>4</td>\n",
       "      <td>Manual</td>\n",
       "      <td>Front</td>\n",
       "      <td>04-May</td>\n",
       "      <td>Left wheel</td>\n",
       "      <td>Blue</td>\n",
       "      <td>6</td>\n",
       "      <td>NaN</td>\n",
       "    </tr>\n",
       "    <tr>\n",
       "      <th>8241</th>\n",
       "      <td>45682346</td>\n",
       "      <td>-</td>\n",
       "      <td>BMW</td>\n",
       "      <td>528 F10</td>\n",
       "      <td>2012</td>\n",
       "      <td>Sedan</td>\n",
       "      <td>Yes</td>\n",
       "      <td>Petrol</td>\n",
       "      <td>2.8 Turbo</td>\n",
       "      <td>156000 km</td>\n",
       "      <td>4</td>\n",
       "      <td>Tiptronic</td>\n",
       "      <td>Front</td>\n",
       "      <td>04-May</td>\n",
       "      <td>Left wheel</td>\n",
       "      <td>Black</td>\n",
       "      <td>6</td>\n",
       "      <td>NaN</td>\n",
       "    </tr>\n",
       "    <tr>\n",
       "      <th>8242</th>\n",
       "      <td>45649860</td>\n",
       "      <td>1646</td>\n",
       "      <td>LEXUS</td>\n",
       "      <td>GX 460</td>\n",
       "      <td>2015</td>\n",
       "      <td>Jeep</td>\n",
       "      <td>Yes</td>\n",
       "      <td>Petrol</td>\n",
       "      <td>4.6</td>\n",
       "      <td>102907 km</td>\n",
       "      <td>8</td>\n",
       "      <td>Automatic</td>\n",
       "      <td>4x4</td>\n",
       "      <td>04-May</td>\n",
       "      <td>Left wheel</td>\n",
       "      <td>Black</td>\n",
       "      <td>0</td>\n",
       "      <td>NaN</td>\n",
       "    </tr>\n",
       "    <tr>\n",
       "      <th>8243</th>\n",
       "      <td>45809706</td>\n",
       "      <td>784</td>\n",
       "      <td>TOYOTA</td>\n",
       "      <td>Aqua</td>\n",
       "      <td>2017</td>\n",
       "      <td>Hatchback</td>\n",
       "      <td>Yes</td>\n",
       "      <td>Petrol</td>\n",
       "      <td>1.5</td>\n",
       "      <td>3000 km</td>\n",
       "      <td>4</td>\n",
       "      <td>Automatic</td>\n",
       "      <td>Front</td>\n",
       "      <td>04-May</td>\n",
       "      <td>Left wheel</td>\n",
       "      <td>Green</td>\n",
       "      <td>4</td>\n",
       "      <td>NaN</td>\n",
       "    </tr>\n",
       "    <tr>\n",
       "      <th>8244</th>\n",
       "      <td>45813163</td>\n",
       "      <td>448</td>\n",
       "      <td>HONDA</td>\n",
       "      <td>Insight</td>\n",
       "      <td>2012</td>\n",
       "      <td>Hatchback</td>\n",
       "      <td>Yes</td>\n",
       "      <td>Hybrid</td>\n",
       "      <td>1.3</td>\n",
       "      <td>321269 km</td>\n",
       "      <td>4</td>\n",
       "      <td>Automatic</td>\n",
       "      <td>Front</td>\n",
       "      <td>04-May</td>\n",
       "      <td>Left wheel</td>\n",
       "      <td>Red</td>\n",
       "      <td>12</td>\n",
       "      <td>NaN</td>\n",
       "    </tr>\n",
       "  </tbody>\n",
       "</table>\n",
       "<p>8245 rows × 18 columns</p>\n",
       "</div>"
      ],
      "text/plain": [
       "            ID  Levy Manufacturer    Model  Prod. year   Category  \\\n",
       "0     44020629     -   VOLKSWAGEN     Golf        2012  Hatchback   \n",
       "1     45784798     -      HYUNDAI   Sonata        2012      Sedan   \n",
       "2     45800257     -       NISSAN    Tiida        2005      Sedan   \n",
       "3     45797981   975        VOLVO     XC90        2012       Jeep   \n",
       "4     45814303     -         OPEL    Astra        1993  Hatchback   \n",
       "...        ...   ...          ...      ...         ...        ...   \n",
       "8240  44824410  1357         FIAT    Stilo        2004  Universal   \n",
       "8241  45682346     -          BMW  528 F10        2012      Sedan   \n",
       "8242  45649860  1646        LEXUS   GX 460        2015       Jeep   \n",
       "8243  45809706   784       TOYOTA     Aqua        2017  Hatchback   \n",
       "8244  45813163   448        HONDA  Insight        2012  Hatchback   \n",
       "\n",
       "     Leather interior Fuel type Engine volume    Mileage  Cylinders  \\\n",
       "0                  No    Diesel     2.0 Turbo       0 km          4   \n",
       "1                 Yes    Petrol           2.4   26000 km          4   \n",
       "2                  No    Petrol           1.5  168000 km          4   \n",
       "3                 Yes    Petrol           3.2  143000 km          6   \n",
       "4                  No    Petrol           1.6  200000 km          4   \n",
       "...               ...       ...           ...        ...        ...   \n",
       "8240               No    Petrol           1.6  164000 km          4   \n",
       "8241              Yes    Petrol     2.8 Turbo  156000 km          4   \n",
       "8242              Yes    Petrol           4.6  102907 km          8   \n",
       "8243              Yes    Petrol           1.5    3000 km          4   \n",
       "8244              Yes    Hybrid           1.3  321269 km          4   \n",
       "\n",
       "     Gear box type Drive wheels   Doors             Wheel     Color  Airbags  \\\n",
       "0           Manual        Front  02-Mar        Left wheel      Grey       10   \n",
       "1        Tiptronic        Front  04-May        Left wheel      Grey       10   \n",
       "2        Automatic        Front  04-May  Right-hand drive  Sky blue        8   \n",
       "3        Automatic          4x4  04-May        Left wheel      Blue       12   \n",
       "4           Manual        Front  04-May        Left wheel     Black        0   \n",
       "...            ...          ...     ...               ...       ...      ...   \n",
       "8240        Manual        Front  04-May        Left wheel      Blue        6   \n",
       "8241     Tiptronic        Front  04-May        Left wheel     Black        6   \n",
       "8242     Automatic          4x4  04-May        Left wheel     Black        0   \n",
       "8243     Automatic        Front  04-May        Left wheel     Green        4   \n",
       "8244     Automatic        Front  04-May        Left wheel       Red       12   \n",
       "\n",
       "      Price  \n",
       "0       NaN  \n",
       "1       NaN  \n",
       "2       NaN  \n",
       "3       NaN  \n",
       "4       NaN  \n",
       "...     ...  \n",
       "8240    NaN  \n",
       "8241    NaN  \n",
       "8242    NaN  \n",
       "8243    NaN  \n",
       "8244    NaN  \n",
       "\n",
       "[8245 rows x 18 columns]"
      ]
     },
     "execution_count": 7,
     "metadata": {},
     "output_type": "execute_result"
    }
   ],
   "source": [
    "data_df_test"
   ]
  },
  {
   "cell_type": "markdown",
   "id": "ab3da9f5",
   "metadata": {},
   "source": [
    "# 4 [HW4] Data Preprocessing"
   ]
  },
  {
   "cell_type": "markdown",
   "id": "eb4c989f",
   "metadata": {},
   "source": [
    "## 4.1 Data cleaning"
   ]
  },
  {
   "cell_type": "markdown",
   "id": "a9996eba",
   "metadata": {},
   "source": [
    "### 1. Perform some initial data exploration to understand the dataset better."
   ]
  },
  {
   "cell_type": "code",
   "execution_count": 8,
   "id": "8e9c551c",
   "metadata": {},
   "outputs": [
    {
     "data": {
      "text/html": [
       "<div>\n",
       "<style scoped>\n",
       "    .dataframe tbody tr th:only-of-type {\n",
       "        vertical-align: middle;\n",
       "    }\n",
       "\n",
       "    .dataframe tbody tr th {\n",
       "        vertical-align: top;\n",
       "    }\n",
       "\n",
       "    .dataframe thead th {\n",
       "        text-align: right;\n",
       "    }\n",
       "</style>\n",
       "<table border=\"1\" class=\"dataframe\">\n",
       "  <thead>\n",
       "    <tr style=\"text-align: right;\">\n",
       "      <th></th>\n",
       "      <th>customer name</th>\n",
       "      <th>customer e-mail</th>\n",
       "      <th>country</th>\n",
       "      <th>gender</th>\n",
       "      <th>age</th>\n",
       "      <th>annual Salary</th>\n",
       "      <th>credit card debt</th>\n",
       "      <th>net worth</th>\n",
       "      <th>car purchase amount</th>\n",
       "    </tr>\n",
       "  </thead>\n",
       "  <tbody>\n",
       "    <tr>\n",
       "      <th>260</th>\n",
       "      <td>Ulysses X. Burch</td>\n",
       "      <td>Sed.nunc.est@arcuMorbi.edu</td>\n",
       "      <td>Kyrgyzstan</td>\n",
       "      <td>0</td>\n",
       "      <td>51.297716</td>\n",
       "      <td>74810.89471</td>\n",
       "      <td>13658.342010</td>\n",
       "      <td>286849.7875</td>\n",
       "      <td>51405.55229</td>\n",
       "    </tr>\n",
       "    <tr>\n",
       "      <th>274</th>\n",
       "      <td>Hammett F. Marsh</td>\n",
       "      <td>tempus.scelerisque@maurisaliquam.ca</td>\n",
       "      <td>Iraq</td>\n",
       "      <td>1</td>\n",
       "      <td>54.222630</td>\n",
       "      <td>58011.63390</td>\n",
       "      <td>9822.426192</td>\n",
       "      <td>552454.0263</td>\n",
       "      <td>52116.90791</td>\n",
       "    </tr>\n",
       "    <tr>\n",
       "      <th>269</th>\n",
       "      <td>Rae C. Hodge</td>\n",
       "      <td>lacus@massaSuspendisse.ca</td>\n",
       "      <td>Kiribati</td>\n",
       "      <td>0</td>\n",
       "      <td>55.346583</td>\n",
       "      <td>70914.59993</td>\n",
       "      <td>9644.410260</td>\n",
       "      <td>779143.6005</td>\n",
       "      <td>66888.93694</td>\n",
       "    </tr>\n",
       "    <tr>\n",
       "      <th>185</th>\n",
       "      <td>August Duncan</td>\n",
       "      <td>tempor.bibendum@Nuncpulvinar.co.uk</td>\n",
       "      <td>Saint Martin</td>\n",
       "      <td>1</td>\n",
       "      <td>37.363226</td>\n",
       "      <td>67545.96382</td>\n",
       "      <td>7171.466112</td>\n",
       "      <td>322905.4592</td>\n",
       "      <td>36638.20688</td>\n",
       "    </tr>\n",
       "    <tr>\n",
       "      <th>179</th>\n",
       "      <td>Palmer Cohen</td>\n",
       "      <td>non.leo@mollis.net</td>\n",
       "      <td>Virgin Islands, British</td>\n",
       "      <td>1</td>\n",
       "      <td>33.976029</td>\n",
       "      <td>61177.08698</td>\n",
       "      <td>9837.222432</td>\n",
       "      <td>340663.3261</td>\n",
       "      <td>30719.81560</td>\n",
       "    </tr>\n",
       "  </tbody>\n",
       "</table>\n",
       "</div>"
      ],
      "text/plain": [
       "        customer name                      customer e-mail  \\\n",
       "260  Ulysses X. Burch           Sed.nunc.est@arcuMorbi.edu   \n",
       "274  Hammett F. Marsh  tempus.scelerisque@maurisaliquam.ca   \n",
       "269      Rae C. Hodge            lacus@massaSuspendisse.ca   \n",
       "185     August Duncan   tempor.bibendum@Nuncpulvinar.co.uk   \n",
       "179      Palmer Cohen                   non.leo@mollis.net   \n",
       "\n",
       "                     country  gender        age  annual Salary  \\\n",
       "260               Kyrgyzstan       0  51.297716    74810.89471   \n",
       "274                     Iraq       1  54.222630    58011.63390   \n",
       "269                 Kiribati       0  55.346583    70914.59993   \n",
       "185             Saint Martin       1  37.363226    67545.96382   \n",
       "179  Virgin Islands, British       1  33.976029    61177.08698   \n",
       "\n",
       "     credit card debt    net worth  car purchase amount  \n",
       "260      13658.342010  286849.7875          51405.55229  \n",
       "274       9822.426192  552454.0263          52116.90791  \n",
       "269       9644.410260  779143.6005          66888.93694  \n",
       "185       7171.466112  322905.4592          36638.20688  \n",
       "179       9837.222432  340663.3261          30719.81560  "
      ]
     },
     "execution_count": 8,
     "metadata": {},
     "output_type": "execute_result"
    }
   ],
   "source": [
    "data_df_purchase.sample(5)"
   ]
  },
  {
   "cell_type": "code",
   "execution_count": 9,
   "id": "33e98508",
   "metadata": {},
   "outputs": [
    {
     "name": "stdout",
     "output_type": "stream",
     "text": [
      "<class 'pandas.core.frame.DataFrame'>\n",
      "RangeIndex: 500 entries, 0 to 499\n",
      "Data columns (total 9 columns):\n",
      " #   Column               Non-Null Count  Dtype  \n",
      "---  ------               --------------  -----  \n",
      " 0   customer name        500 non-null    object \n",
      " 1   customer e-mail      500 non-null    object \n",
      " 2   country              500 non-null    object \n",
      " 3   gender               500 non-null    int64  \n",
      " 4   age                  500 non-null    float64\n",
      " 5   annual Salary        500 non-null    float64\n",
      " 6   credit card debt     500 non-null    float64\n",
      " 7   net worth            500 non-null    float64\n",
      " 8   car purchase amount  500 non-null    float64\n",
      "dtypes: float64(5), int64(1), object(3)\n",
      "memory usage: 35.3+ KB\n"
     ]
    }
   ],
   "source": [
    "data_df_purchase.info()"
   ]
  },
  {
   "cell_type": "code",
   "execution_count": 10,
   "id": "3c626256",
   "metadata": {},
   "outputs": [
    {
     "data": {
      "text/html": [
       "<div>\n",
       "<style scoped>\n",
       "    .dataframe tbody tr th:only-of-type {\n",
       "        vertical-align: middle;\n",
       "    }\n",
       "\n",
       "    .dataframe tbody tr th {\n",
       "        vertical-align: top;\n",
       "    }\n",
       "\n",
       "    .dataframe thead th {\n",
       "        text-align: right;\n",
       "    }\n",
       "</style>\n",
       "<table border=\"1\" class=\"dataframe\">\n",
       "  <thead>\n",
       "    <tr style=\"text-align: right;\">\n",
       "      <th></th>\n",
       "      <th>gender</th>\n",
       "      <th>age</th>\n",
       "      <th>annual Salary</th>\n",
       "      <th>credit card debt</th>\n",
       "      <th>net worth</th>\n",
       "      <th>car purchase amount</th>\n",
       "    </tr>\n",
       "  </thead>\n",
       "  <tbody>\n",
       "    <tr>\n",
       "      <th>count</th>\n",
       "      <td>500.000000</td>\n",
       "      <td>500.000000</td>\n",
       "      <td>500.000000</td>\n",
       "      <td>500.000000</td>\n",
       "      <td>500.000000</td>\n",
       "      <td>500.000000</td>\n",
       "    </tr>\n",
       "    <tr>\n",
       "      <th>mean</th>\n",
       "      <td>0.506000</td>\n",
       "      <td>46.241674</td>\n",
       "      <td>62127.239608</td>\n",
       "      <td>9607.645049</td>\n",
       "      <td>431475.713625</td>\n",
       "      <td>44209.799218</td>\n",
       "    </tr>\n",
       "    <tr>\n",
       "      <th>std</th>\n",
       "      <td>0.500465</td>\n",
       "      <td>7.978862</td>\n",
       "      <td>11703.378228</td>\n",
       "      <td>3489.187973</td>\n",
       "      <td>173536.756340</td>\n",
       "      <td>10773.178744</td>\n",
       "    </tr>\n",
       "    <tr>\n",
       "      <th>min</th>\n",
       "      <td>0.000000</td>\n",
       "      <td>20.000000</td>\n",
       "      <td>20000.000000</td>\n",
       "      <td>100.000000</td>\n",
       "      <td>20000.000000</td>\n",
       "      <td>9000.000000</td>\n",
       "    </tr>\n",
       "    <tr>\n",
       "      <th>25%</th>\n",
       "      <td>0.000000</td>\n",
       "      <td>40.949969</td>\n",
       "      <td>54391.977195</td>\n",
       "      <td>7397.515792</td>\n",
       "      <td>299824.195900</td>\n",
       "      <td>37629.896040</td>\n",
       "    </tr>\n",
       "    <tr>\n",
       "      <th>50%</th>\n",
       "      <td>1.000000</td>\n",
       "      <td>46.049901</td>\n",
       "      <td>62915.497035</td>\n",
       "      <td>9655.035568</td>\n",
       "      <td>426750.120650</td>\n",
       "      <td>43997.783390</td>\n",
       "    </tr>\n",
       "    <tr>\n",
       "      <th>75%</th>\n",
       "      <td>1.000000</td>\n",
       "      <td>51.612263</td>\n",
       "      <td>70117.862005</td>\n",
       "      <td>11798.867487</td>\n",
       "      <td>557324.478725</td>\n",
       "      <td>51254.709517</td>\n",
       "    </tr>\n",
       "    <tr>\n",
       "      <th>max</th>\n",
       "      <td>1.000000</td>\n",
       "      <td>70.000000</td>\n",
       "      <td>100000.000000</td>\n",
       "      <td>20000.000000</td>\n",
       "      <td>1000000.000000</td>\n",
       "      <td>80000.000000</td>\n",
       "    </tr>\n",
       "  </tbody>\n",
       "</table>\n",
       "</div>"
      ],
      "text/plain": [
       "           gender         age  annual Salary  credit card debt  \\\n",
       "count  500.000000  500.000000     500.000000        500.000000   \n",
       "mean     0.506000   46.241674   62127.239608       9607.645049   \n",
       "std      0.500465    7.978862   11703.378228       3489.187973   \n",
       "min      0.000000   20.000000   20000.000000        100.000000   \n",
       "25%      0.000000   40.949969   54391.977195       7397.515792   \n",
       "50%      1.000000   46.049901   62915.497035       9655.035568   \n",
       "75%      1.000000   51.612263   70117.862005      11798.867487   \n",
       "max      1.000000   70.000000  100000.000000      20000.000000   \n",
       "\n",
       "            net worth  car purchase amount  \n",
       "count      500.000000           500.000000  \n",
       "mean    431475.713625         44209.799218  \n",
       "std     173536.756340         10773.178744  \n",
       "min      20000.000000          9000.000000  \n",
       "25%     299824.195900         37629.896040  \n",
       "50%     426750.120650         43997.783390  \n",
       "75%     557324.478725         51254.709517  \n",
       "max    1000000.000000         80000.000000  "
      ]
     },
     "execution_count": 10,
     "metadata": {},
     "output_type": "execute_result"
    }
   ],
   "source": [
    "data_df_purchase.describe()"
   ]
  },
  {
   "cell_type": "markdown",
   "id": "2ac6ed09",
   "metadata": {},
   "source": [
    "### 2. Address missing data, if any, by appropiately identifying and quantifying missing values in the dataset. \n",
    "\n",
    "### 5. If you can find no missing values, this section will still contain the code where you are checking for missing values."
   ]
  },
  {
   "cell_type": "code",
   "execution_count": 11,
   "id": "3e840bee",
   "metadata": {},
   "outputs": [
    {
     "data": {
      "text/plain": [
       "False"
      ]
     },
     "execution_count": 11,
     "metadata": {},
     "output_type": "execute_result"
    }
   ],
   "source": [
    "data_df_purchase['customer name'].isnull().values.any()"
   ]
  },
  {
   "cell_type": "code",
   "execution_count": 12,
   "id": "d38b3e28",
   "metadata": {},
   "outputs": [
    {
     "data": {
      "text/plain": [
       "False"
      ]
     },
     "execution_count": 12,
     "metadata": {},
     "output_type": "execute_result"
    }
   ],
   "source": [
    "data_df_purchase['customer e-mail'].isnull().values.any()"
   ]
  },
  {
   "cell_type": "code",
   "execution_count": 13,
   "id": "9fca32cb",
   "metadata": {},
   "outputs": [
    {
     "data": {
      "text/plain": [
       "False"
      ]
     },
     "execution_count": 13,
     "metadata": {},
     "output_type": "execute_result"
    }
   ],
   "source": [
    "data_df_purchase['country'].isnull().values.any()"
   ]
  },
  {
   "cell_type": "code",
   "execution_count": 14,
   "id": "df644822",
   "metadata": {},
   "outputs": [
    {
     "data": {
      "text/plain": [
       "False"
      ]
     },
     "execution_count": 14,
     "metadata": {},
     "output_type": "execute_result"
    }
   ],
   "source": [
    "data_df_purchase['gender'].isnull().values.any()"
   ]
  },
  {
   "cell_type": "code",
   "execution_count": 15,
   "id": "81eb392b",
   "metadata": {},
   "outputs": [
    {
     "data": {
      "text/plain": [
       "False"
      ]
     },
     "execution_count": 15,
     "metadata": {},
     "output_type": "execute_result"
    }
   ],
   "source": [
    "data_df_purchase['age'].isnull().values.any()"
   ]
  },
  {
   "cell_type": "code",
   "execution_count": 16,
   "id": "64bdef94",
   "metadata": {},
   "outputs": [
    {
     "data": {
      "text/plain": [
       "False"
      ]
     },
     "execution_count": 16,
     "metadata": {},
     "output_type": "execute_result"
    }
   ],
   "source": [
    "data_df_purchase['annual Salary'].isnull().values.any()"
   ]
  },
  {
   "cell_type": "code",
   "execution_count": 17,
   "id": "eec73d7d",
   "metadata": {},
   "outputs": [
    {
     "data": {
      "text/plain": [
       "False"
      ]
     },
     "execution_count": 17,
     "metadata": {},
     "output_type": "execute_result"
    }
   ],
   "source": [
    "data_df_purchase['credit card debt'].isnull().values.any()"
   ]
  },
  {
   "cell_type": "code",
   "execution_count": 18,
   "id": "d056895d",
   "metadata": {},
   "outputs": [
    {
     "data": {
      "text/plain": [
       "False"
      ]
     },
     "execution_count": 18,
     "metadata": {},
     "output_type": "execute_result"
    }
   ],
   "source": [
    "data_df_purchase['net worth'].isnull().values.any()"
   ]
  },
  {
   "cell_type": "code",
   "execution_count": 19,
   "id": "63930801",
   "metadata": {},
   "outputs": [
    {
     "data": {
      "text/plain": [
       "False"
      ]
     },
     "execution_count": 19,
     "metadata": {},
     "output_type": "execute_result"
    }
   ],
   "source": [
    "data_df_purchase['car purchase amount'].isnull().values.any()"
   ]
  },
  {
   "cell_type": "markdown",
   "id": "b4c1dc90",
   "metadata": {},
   "source": [
    "## 4.2 Outlier Detection"
   ]
  },
  {
   "cell_type": "markdown",
   "id": "250127c8",
   "metadata": {},
   "source": [
    "### 1. Check for outliers. You may need data visualization here. Go for a method you see fit."
   ]
  },
  {
   "cell_type": "code",
   "execution_count": 20,
   "id": "cdd67a11",
   "metadata": {},
   "outputs": [],
   "source": [
    "import matplotlib.pyplot as plt"
   ]
  },
  {
   "cell_type": "code",
   "execution_count": 21,
   "id": "f7a0304e",
   "metadata": {},
   "outputs": [
    {
     "data": {
      "text/html": [
       "<div>\n",
       "<style scoped>\n",
       "    .dataframe tbody tr th:only-of-type {\n",
       "        vertical-align: middle;\n",
       "    }\n",
       "\n",
       "    .dataframe tbody tr th {\n",
       "        vertical-align: top;\n",
       "    }\n",
       "\n",
       "    .dataframe thead th {\n",
       "        text-align: right;\n",
       "    }\n",
       "</style>\n",
       "<table border=\"1\" class=\"dataframe\">\n",
       "  <thead>\n",
       "    <tr style=\"text-align: right;\">\n",
       "      <th></th>\n",
       "      <th>gender</th>\n",
       "      <th>age</th>\n",
       "      <th>annual Salary</th>\n",
       "      <th>credit card debt</th>\n",
       "      <th>net worth</th>\n",
       "      <th>car purchase amount</th>\n",
       "    </tr>\n",
       "  </thead>\n",
       "  <tbody>\n",
       "    <tr>\n",
       "      <th>count</th>\n",
       "      <td>500.000000</td>\n",
       "      <td>500.000000</td>\n",
       "      <td>500.000000</td>\n",
       "      <td>500.000000</td>\n",
       "      <td>500.000000</td>\n",
       "      <td>500.000000</td>\n",
       "    </tr>\n",
       "    <tr>\n",
       "      <th>mean</th>\n",
       "      <td>0.506000</td>\n",
       "      <td>46.241674</td>\n",
       "      <td>62127.239608</td>\n",
       "      <td>9607.645049</td>\n",
       "      <td>431475.713625</td>\n",
       "      <td>44209.799218</td>\n",
       "    </tr>\n",
       "    <tr>\n",
       "      <th>std</th>\n",
       "      <td>0.500465</td>\n",
       "      <td>7.978862</td>\n",
       "      <td>11703.378228</td>\n",
       "      <td>3489.187973</td>\n",
       "      <td>173536.756340</td>\n",
       "      <td>10773.178744</td>\n",
       "    </tr>\n",
       "    <tr>\n",
       "      <th>min</th>\n",
       "      <td>0.000000</td>\n",
       "      <td>20.000000</td>\n",
       "      <td>20000.000000</td>\n",
       "      <td>100.000000</td>\n",
       "      <td>20000.000000</td>\n",
       "      <td>9000.000000</td>\n",
       "    </tr>\n",
       "    <tr>\n",
       "      <th>25%</th>\n",
       "      <td>0.000000</td>\n",
       "      <td>40.949969</td>\n",
       "      <td>54391.977195</td>\n",
       "      <td>7397.515792</td>\n",
       "      <td>299824.195900</td>\n",
       "      <td>37629.896040</td>\n",
       "    </tr>\n",
       "    <tr>\n",
       "      <th>50%</th>\n",
       "      <td>1.000000</td>\n",
       "      <td>46.049901</td>\n",
       "      <td>62915.497035</td>\n",
       "      <td>9655.035568</td>\n",
       "      <td>426750.120650</td>\n",
       "      <td>43997.783390</td>\n",
       "    </tr>\n",
       "    <tr>\n",
       "      <th>75%</th>\n",
       "      <td>1.000000</td>\n",
       "      <td>51.612263</td>\n",
       "      <td>70117.862005</td>\n",
       "      <td>11798.867487</td>\n",
       "      <td>557324.478725</td>\n",
       "      <td>51254.709517</td>\n",
       "    </tr>\n",
       "    <tr>\n",
       "      <th>max</th>\n",
       "      <td>1.000000</td>\n",
       "      <td>70.000000</td>\n",
       "      <td>100000.000000</td>\n",
       "      <td>20000.000000</td>\n",
       "      <td>1000000.000000</td>\n",
       "      <td>80000.000000</td>\n",
       "    </tr>\n",
       "  </tbody>\n",
       "</table>\n",
       "</div>"
      ],
      "text/plain": [
       "           gender         age  annual Salary  credit card debt  \\\n",
       "count  500.000000  500.000000     500.000000        500.000000   \n",
       "mean     0.506000   46.241674   62127.239608       9607.645049   \n",
       "std      0.500465    7.978862   11703.378228       3489.187973   \n",
       "min      0.000000   20.000000   20000.000000        100.000000   \n",
       "25%      0.000000   40.949969   54391.977195       7397.515792   \n",
       "50%      1.000000   46.049901   62915.497035       9655.035568   \n",
       "75%      1.000000   51.612263   70117.862005      11798.867487   \n",
       "max      1.000000   70.000000  100000.000000      20000.000000   \n",
       "\n",
       "            net worth  car purchase amount  \n",
       "count      500.000000           500.000000  \n",
       "mean    431475.713625         44209.799218  \n",
       "std     173536.756340         10773.178744  \n",
       "min      20000.000000          9000.000000  \n",
       "25%     299824.195900         37629.896040  \n",
       "50%     426750.120650         43997.783390  \n",
       "75%     557324.478725         51254.709517  \n",
       "max    1000000.000000         80000.000000  "
      ]
     },
     "execution_count": 21,
     "metadata": {},
     "output_type": "execute_result"
    }
   ],
   "source": [
    "data_df_purchase.describe()"
   ]
  },
  {
   "cell_type": "code",
   "execution_count": 22,
   "id": "cd9fc7cc",
   "metadata": {},
   "outputs": [
    {
     "data": {
      "text/plain": [
       "<matplotlib.collections.PathCollection at 0x1f3749d57e0>"
      ]
     },
     "execution_count": 22,
     "metadata": {},
     "output_type": "execute_result"
    },
    {
     "data": {
      "image/png": "[encoded data removed]",
      "text/plain": [
       "<Figure size 640x480 with 1 Axes>"
      ]
     },
     "metadata": {},
     "output_type": "display_data"
    }
   ],
   "source": [
    "x = data_df_purchase['gender'].to_numpy()\n",
    "y = data_df_purchase['age'].to_numpy()\n",
    "plt.xlabel(\"Gender\")\n",
    "plt.ylabel(\"Age\")\n",
    "plt.scatter(x, y)"
   ]
  },
  {
   "cell_type": "markdown",
   "id": "f9288d55",
   "metadata": {},
   "source": [
    "**NO OUTLIERS FOUND WITHIN GENDER NOR AGE**"
   ]
  },
  {
   "cell_type": "code",
   "execution_count": 23,
   "id": "0047bb77",
   "metadata": {},
   "outputs": [
    {
     "data": {
      "text/plain": [
       "<matplotlib.collections.PathCollection at 0x1f377be1480>"
      ]
     },
     "execution_count": 23,
     "metadata": {},
     "output_type": "execute_result"
    },
    {
     "data": {
      "image/png": "[encoded data removed]",
      "text/plain": [
       "<Figure size 640x480 with 1 Axes>"
      ]
     },
     "metadata": {},
     "output_type": "display_data"
    }
   ],
   "source": [
    "x = data_df_purchase['annual Salary'].to_numpy()\n",
    "y = data_df_purchase['credit card debt'].to_numpy()\n",
    "plt.xlabel(\"Annual Salary\")\n",
    "plt.ylabel(\"Credit Card Debt\")\n",
    "plt.scatter(x, y)"
   ]
  },
  {
   "cell_type": "markdown",
   "id": "ac12784f",
   "metadata": {},
   "source": [
    "**TWO OUTLIERS FOUND AS THE MAX AN MIN VALUE OF THE ANNUAL SALARY**"
   ]
  },
  {
   "cell_type": "code",
   "execution_count": 24,
   "id": "f2ba11f2",
   "metadata": {},
   "outputs": [
    {
     "data": {
      "text/plain": [
       "<matplotlib.collections.PathCollection at 0x1f377c665c0>"
      ]
     },
     "execution_count": 24,
     "metadata": {},
     "output_type": "execute_result"
    },
    {
     "data": {
      "image/png": "[encoded data removed]",
      "text/plain": [
       "<Figure size 640x480 with 1 Axes>"
      ]
     },
     "metadata": {},
     "output_type": "display_data"
    }
   ],
   "source": [
    "x = data_df_purchase['net worth'].to_numpy()\n",
    "y = data_df_purchase['car purchase amount'].to_numpy()\n",
    "plt.xlabel(\"Net Worth\")\n",
    "plt.ylabel(\"Car Purchase Amount\")\n",
    "plt.scatter(x, y)"
   ]
  },
  {
   "cell_type": "markdown",
   "id": "400e9108",
   "metadata": {},
   "source": [
    "**ONE OUTLIER FOUND AS THE MAX VALUE OF THE NET WORTH**"
   ]
  },
  {
   "cell_type": "markdown",
   "id": "7bc86e43",
   "metadata": {},
   "source": [
    "### 2. If you do find outliers, apply effective outlier treatment techinques, such as removal, tranformation, or capping, depending on the data and context."
   ]
  },
  {
   "cell_type": "markdown",
   "id": "020da419",
   "metadata": {},
   "source": [
    "**Removing outliers found in annual salary**"
   ]
  },
  {
   "cell_type": "code",
   "execution_count": 25,
   "id": "2a416273",
   "metadata": {},
   "outputs": [
    {
     "data": {
      "text/plain": [
       "<matplotlib.collections.PathCollection at 0x1f377cf1510>"
      ]
     },
     "execution_count": 25,
     "metadata": {},
     "output_type": "execute_result"
    },
    {
     "data": {
      "image/png": "[encoded data removed]",
      "text/plain": [
       "<Figure size 640x480 with 1 Axes>"
      ]
     },
     "metadata": {},
     "output_type": "display_data"
    }
   ],
   "source": [
    "x = data_df_purchase['annual Salary'].to_numpy()\n",
    "y = data_df_purchase['credit card debt'].to_numpy()\n",
    "plt.xlabel(\"Annual Salary\")\n",
    "plt.ylabel(\"Credit Card Debt\")\n",
    "plt.scatter(x, y)"
   ]
  },
  {
   "cell_type": "code",
   "execution_count": 26,
   "id": "c54a102c",
   "metadata": {},
   "outputs": [],
   "source": [
    "outlier_price = data_df_purchase.loc[data_df_purchase['annual Salary'] == data_df_purchase['annual Salary'].max()].index"
   ]
  },
  {
   "cell_type": "code",
   "execution_count": 27,
   "id": "71276f74",
   "metadata": {},
   "outputs": [
    {
     "data": {
      "text/plain": [
       "Index([28], dtype='int64')"
      ]
     },
     "execution_count": 27,
     "metadata": {},
     "output_type": "execute_result"
    }
   ],
   "source": [
    "outlier_price"
   ]
  },
  {
   "cell_type": "code",
   "execution_count": 28,
   "id": "c6c556b7",
   "metadata": {},
   "outputs": [],
   "source": [
    "data_df_purchase = data_df_purchase.drop(outlier_price)"
   ]
  },
  {
   "cell_type": "code",
   "execution_count": 29,
   "id": "65a0649c",
   "metadata": {},
   "outputs": [
    {
     "data": {
      "text/plain": [
       "<matplotlib.collections.PathCollection at 0x1f377d96500>"
      ]
     },
     "execution_count": 29,
     "metadata": {},
     "output_type": "execute_result"
    },
    {
     "data": {
      "image/png": "[encoded data removed]",
      "text/plain": [
       "<Figure size 640x480 with 1 Axes>"
      ]
     },
     "metadata": {},
     "output_type": "display_data"
    }
   ],
   "source": [
    "x = data_df_purchase['annual Salary'].to_numpy()\n",
    "y = data_df_purchase['credit card debt'].to_numpy()\n",
    "plt.xlabel(\"Annual Salary\")\n",
    "plt.ylabel(\"Credit Card Debt\")\n",
    "plt.scatter(x, y)"
   ]
  },
  {
   "cell_type": "code",
   "execution_count": 30,
   "id": "8a8d1874",
   "metadata": {},
   "outputs": [],
   "source": [
    "outlier_price = data_df_purchase.loc[data_df_purchase['annual Salary'] == data_df_purchase['annual Salary'].min()].index"
   ]
  },
  {
   "cell_type": "code",
   "execution_count": 31,
   "id": "d8b776e3",
   "metadata": {},
   "outputs": [
    {
     "data": {
      "text/plain": [
       "Index([89], dtype='int64')"
      ]
     },
     "execution_count": 31,
     "metadata": {},
     "output_type": "execute_result"
    }
   ],
   "source": [
    "outlier_price"
   ]
  },
  {
   "cell_type": "code",
   "execution_count": 32,
   "id": "0c793d18",
   "metadata": {},
   "outputs": [],
   "source": [
    "data_df_purchase = data_df_purchase.drop(outlier_price)"
   ]
  },
  {
   "cell_type": "code",
   "execution_count": 33,
   "id": "5f4bae99",
   "metadata": {},
   "outputs": [
    {
     "data": {
      "text/plain": [
       "<matplotlib.collections.PathCollection at 0x1f377e270d0>"
      ]
     },
     "execution_count": 33,
     "metadata": {},
     "output_type": "execute_result"
    },
    {
     "data": {
      "image/png": "[encoded data removed]",
      "text/plain": [
       "<Figure size 640x480 with 1 Axes>"
      ]
     },
     "metadata": {},
     "output_type": "display_data"
    }
   ],
   "source": [
    "x = data_df_purchase['annual Salary'].to_numpy()\n",
    "y = data_df_purchase['credit card debt'].to_numpy()\n",
    "plt.xlabel(\"Annual Salary\")\n",
    "plt.ylabel(\"Credit Card Debt\")\n",
    "plt.scatter(x, y)"
   ]
  },
  {
   "cell_type": "markdown",
   "id": "a68eb2ed",
   "metadata": {},
   "source": [
    "**Removing outliers from net worth**"
   ]
  },
  {
   "cell_type": "code",
   "execution_count": 34,
   "id": "5e28fece",
   "metadata": {},
   "outputs": [
    {
     "data": {
      "text/plain": [
       "<matplotlib.collections.PathCollection at 0x1f374a9b2e0>"
      ]
     },
     "execution_count": 34,
     "metadata": {},
     "output_type": "execute_result"
    },
    {
     "data": {
      "image/png": "[encoded data removed]",
      "text/plain": [
       "<Figure size 640x480 with 1 Axes>"
      ]
     },
     "metadata": {},
     "output_type": "display_data"
    }
   ],
   "source": [
    "x = data_df_purchase['net worth'].to_numpy()\n",
    "y = data_df_purchase['car purchase amount'].to_numpy()\n",
    "plt.xlabel(\"Net Worth\")\n",
    "plt.ylabel(\"Car Purchase Amount\")\n",
    "plt.scatter(x, y)"
   ]
  },
  {
   "cell_type": "code",
   "execution_count": 35,
   "id": "5b3d3f35",
   "metadata": {},
   "outputs": [],
   "source": [
    "outlier_price = data_df_purchase.loc[data_df_purchase['net worth'] == data_df_purchase['net worth'].max()].index"
   ]
  },
  {
   "cell_type": "code",
   "execution_count": 36,
   "id": "51089724",
   "metadata": {},
   "outputs": [
    {
     "data": {
      "text/plain": [
       "Index([315], dtype='int64')"
      ]
     },
     "execution_count": 36,
     "metadata": {},
     "output_type": "execute_result"
    }
   ],
   "source": [
    "outlier_price"
   ]
  },
  {
   "cell_type": "code",
   "execution_count": 37,
   "id": "68b573b3",
   "metadata": {},
   "outputs": [],
   "source": [
    "data_df_purchase = data_df_purchase.drop(outlier_price)"
   ]
  },
  {
   "cell_type": "code",
   "execution_count": 38,
   "id": "17dee977",
   "metadata": {},
   "outputs": [
    {
     "data": {
      "text/plain": [
       "<matplotlib.collections.PathCollection at 0x1f374b2a080>"
      ]
     },
     "execution_count": 38,
     "metadata": {},
     "output_type": "execute_result"
    },
    {
     "data": {
      "image/png": "[encoded data removed]",
      "text/plain": [
       "<Figure size 640x480 with 1 Axes>"
      ]
     },
     "metadata": {},
     "output_type": "display_data"
    }
   ],
   "source": [
    "x = data_df_purchase['net worth'].to_numpy()\n",
    "y = data_df_purchase['car purchase amount'].to_numpy()\n",
    "plt.xlabel(\"Net Worth\")\n",
    "plt.ylabel(\"Car Purchase Amount\")\n",
    "plt.scatter(x, y)"
   ]
  },
  {
   "cell_type": "code",
   "execution_count": 39,
   "id": "4e77563d",
   "metadata": {},
   "outputs": [
    {
     "data": {
      "text/html": [
       "<div>\n",
       "<style scoped>\n",
       "    .dataframe tbody tr th:only-of-type {\n",
       "        vertical-align: middle;\n",
       "    }\n",
       "\n",
       "    .dataframe tbody tr th {\n",
       "        vertical-align: top;\n",
       "    }\n",
       "\n",
       "    .dataframe thead th {\n",
       "        text-align: right;\n",
       "    }\n",
       "</style>\n",
       "<table border=\"1\" class=\"dataframe\">\n",
       "  <thead>\n",
       "    <tr style=\"text-align: right;\">\n",
       "      <th></th>\n",
       "      <th>gender</th>\n",
       "      <th>age</th>\n",
       "      <th>annual Salary</th>\n",
       "      <th>credit card debt</th>\n",
       "      <th>net worth</th>\n",
       "      <th>car purchase amount</th>\n",
       "    </tr>\n",
       "  </thead>\n",
       "  <tbody>\n",
       "    <tr>\n",
       "      <th>count</th>\n",
       "      <td>497.000000</td>\n",
       "      <td>497.000000</td>\n",
       "      <td>497.000000</td>\n",
       "      <td>497.000000</td>\n",
       "      <td>497.000000</td>\n",
       "      <td>497.000000</td>\n",
       "    </tr>\n",
       "    <tr>\n",
       "      <th>mean</th>\n",
       "      <td>0.503018</td>\n",
       "      <td>46.252719</td>\n",
       "      <td>62093.130771</td>\n",
       "      <td>9581.959194</td>\n",
       "      <td>430524.432756</td>\n",
       "      <td>44172.341200</td>\n",
       "    </tr>\n",
       "    <tr>\n",
       "      <th>std</th>\n",
       "      <td>0.500495</td>\n",
       "      <td>7.967956</td>\n",
       "      <td>11420.148326</td>\n",
       "      <td>3475.557926</td>\n",
       "      <td>171700.675106</td>\n",
       "      <td>10573.520141</td>\n",
       "    </tr>\n",
       "    <tr>\n",
       "      <th>min</th>\n",
       "      <td>0.000000</td>\n",
       "      <td>20.000000</td>\n",
       "      <td>32697.981610</td>\n",
       "      <td>100.000000</td>\n",
       "      <td>20000.000000</td>\n",
       "      <td>9000.000000</td>\n",
       "    </tr>\n",
       "    <tr>\n",
       "      <th>25%</th>\n",
       "      <td>0.000000</td>\n",
       "      <td>40.961674</td>\n",
       "      <td>54395.053560</td>\n",
       "      <td>7377.820914</td>\n",
       "      <td>299854.218600</td>\n",
       "      <td>37714.316590</td>\n",
       "    </tr>\n",
       "    <tr>\n",
       "      <th>50%</th>\n",
       "      <td>1.000000</td>\n",
       "      <td>46.028076</td>\n",
       "      <td>62891.865560</td>\n",
       "      <td>9644.410260</td>\n",
       "      <td>426488.745900</td>\n",
       "      <td>43994.359720</td>\n",
       "    </tr>\n",
       "    <tr>\n",
       "      <th>75%</th>\n",
       "      <td>1.000000</td>\n",
       "      <td>51.560544</td>\n",
       "      <td>70076.227640</td>\n",
       "      <td>11785.879190</td>\n",
       "      <td>556945.874200</td>\n",
       "      <td>51130.953790</td>\n",
       "    </tr>\n",
       "    <tr>\n",
       "      <th>max</th>\n",
       "      <td>1.000000</td>\n",
       "      <td>70.000000</td>\n",
       "      <td>92471.176120</td>\n",
       "      <td>20000.000000</td>\n",
       "      <td>891439.876100</td>\n",
       "      <td>70878.296640</td>\n",
       "    </tr>\n",
       "  </tbody>\n",
       "</table>\n",
       "</div>"
      ],
      "text/plain": [
       "           gender         age  annual Salary  credit card debt      net worth  \\\n",
       "count  497.000000  497.000000     497.000000        497.000000     497.000000   \n",
       "mean     0.503018   46.252719   62093.130771       9581.959194  430524.432756   \n",
       "std      0.500495    7.967956   11420.148326       3475.557926  171700.675106   \n",
       "min      0.000000   20.000000   32697.981610        100.000000   20000.000000   \n",
       "25%      0.000000   40.961674   54395.053560       7377.820914  299854.218600   \n",
       "50%      1.000000   46.028076   62891.865560       9644.410260  426488.745900   \n",
       "75%      1.000000   51.560544   70076.227640      11785.879190  556945.874200   \n",
       "max      1.000000   70.000000   92471.176120      20000.000000  891439.876100   \n",
       "\n",
       "       car purchase amount  \n",
       "count           497.000000  \n",
       "mean          44172.341200  \n",
       "std           10573.520141  \n",
       "min            9000.000000  \n",
       "25%           37714.316590  \n",
       "50%           43994.359720  \n",
       "75%           51130.953790  \n",
       "max           70878.296640  "
      ]
     },
     "execution_count": 39,
     "metadata": {},
     "output_type": "execute_result"
    }
   ],
   "source": [
    "data_df_purchase.describe()"
   ]
  },
  {
   "cell_type": "markdown",
   "id": "71d1c229",
   "metadata": {},
   "source": [
    "### 3. Explain the rationale behind the chosen outlier handling approach."
   ]
  },
  {
   "cell_type": "markdown",
   "id": "4222e9de",
   "metadata": {},
   "source": [
    "Within the dataset, I found three outliers, two within the annual salary and one in the net worth. I decided to remove them since their impact on the model I am wanting to build will be close to null, as I was planning on merging those categories within the next bin due to their small impact. So, I removed the trouble of having to do that and focused on the bins of major impact for the model."
   ]
  },
  {
   "cell_type": "markdown",
   "id": "51cf1185",
   "metadata": {},
   "source": [
    "## 4.3 Data Quality and Consistency"
   ]
  },
  {
   "cell_type": "markdown",
   "id": "de53e446",
   "metadata": {},
   "source": [
    "### 1. Ensure data quality by verifying data consistency and accuracy."
   ]
  },
  {
   "cell_type": "code",
   "execution_count": 40,
   "id": "35a0f786",
   "metadata": {},
   "outputs": [
    {
     "data": {
      "text/html": [
       "<div>\n",
       "<style scoped>\n",
       "    .dataframe tbody tr th:only-of-type {\n",
       "        vertical-align: middle;\n",
       "    }\n",
       "\n",
       "    .dataframe tbody tr th {\n",
       "        vertical-align: top;\n",
       "    }\n",
       "\n",
       "    .dataframe thead th {\n",
       "        text-align: right;\n",
       "    }\n",
       "</style>\n",
       "<table border=\"1\" class=\"dataframe\">\n",
       "  <thead>\n",
       "    <tr style=\"text-align: right;\">\n",
       "      <th></th>\n",
       "      <th>gender</th>\n",
       "      <th>age</th>\n",
       "      <th>annual Salary</th>\n",
       "      <th>credit card debt</th>\n",
       "      <th>net worth</th>\n",
       "      <th>car purchase amount</th>\n",
       "    </tr>\n",
       "  </thead>\n",
       "  <tbody>\n",
       "    <tr>\n",
       "      <th>count</th>\n",
       "      <td>497.000000</td>\n",
       "      <td>497.000000</td>\n",
       "      <td>497.000000</td>\n",
       "      <td>497.000000</td>\n",
       "      <td>497.000000</td>\n",
       "      <td>497.000000</td>\n",
       "    </tr>\n",
       "    <tr>\n",
       "      <th>mean</th>\n",
       "      <td>0.503018</td>\n",
       "      <td>46.252719</td>\n",
       "      <td>62093.130771</td>\n",
       "      <td>9581.959194</td>\n",
       "      <td>430524.432756</td>\n",
       "      <td>44172.341200</td>\n",
       "    </tr>\n",
       "    <tr>\n",
       "      <th>std</th>\n",
       "      <td>0.500495</td>\n",
       "      <td>7.967956</td>\n",
       "      <td>11420.148326</td>\n",
       "      <td>3475.557926</td>\n",
       "      <td>171700.675106</td>\n",
       "      <td>10573.520141</td>\n",
       "    </tr>\n",
       "    <tr>\n",
       "      <th>min</th>\n",
       "      <td>0.000000</td>\n",
       "      <td>20.000000</td>\n",
       "      <td>32697.981610</td>\n",
       "      <td>100.000000</td>\n",
       "      <td>20000.000000</td>\n",
       "      <td>9000.000000</td>\n",
       "    </tr>\n",
       "    <tr>\n",
       "      <th>25%</th>\n",
       "      <td>0.000000</td>\n",
       "      <td>40.961674</td>\n",
       "      <td>54395.053560</td>\n",
       "      <td>7377.820914</td>\n",
       "      <td>299854.218600</td>\n",
       "      <td>37714.316590</td>\n",
       "    </tr>\n",
       "    <tr>\n",
       "      <th>50%</th>\n",
       "      <td>1.000000</td>\n",
       "      <td>46.028076</td>\n",
       "      <td>62891.865560</td>\n",
       "      <td>9644.410260</td>\n",
       "      <td>426488.745900</td>\n",
       "      <td>43994.359720</td>\n",
       "    </tr>\n",
       "    <tr>\n",
       "      <th>75%</th>\n",
       "      <td>1.000000</td>\n",
       "      <td>51.560544</td>\n",
       "      <td>70076.227640</td>\n",
       "      <td>11785.879190</td>\n",
       "      <td>556945.874200</td>\n",
       "      <td>51130.953790</td>\n",
       "    </tr>\n",
       "    <tr>\n",
       "      <th>max</th>\n",
       "      <td>1.000000</td>\n",
       "      <td>70.000000</td>\n",
       "      <td>92471.176120</td>\n",
       "      <td>20000.000000</td>\n",
       "      <td>891439.876100</td>\n",
       "      <td>70878.296640</td>\n",
       "    </tr>\n",
       "  </tbody>\n",
       "</table>\n",
       "</div>"
      ],
      "text/plain": [
       "           gender         age  annual Salary  credit card debt      net worth  \\\n",
       "count  497.000000  497.000000     497.000000        497.000000     497.000000   \n",
       "mean     0.503018   46.252719   62093.130771       9581.959194  430524.432756   \n",
       "std      0.500495    7.967956   11420.148326       3475.557926  171700.675106   \n",
       "min      0.000000   20.000000   32697.981610        100.000000   20000.000000   \n",
       "25%      0.000000   40.961674   54395.053560       7377.820914  299854.218600   \n",
       "50%      1.000000   46.028076   62891.865560       9644.410260  426488.745900   \n",
       "75%      1.000000   51.560544   70076.227640      11785.879190  556945.874200   \n",
       "max      1.000000   70.000000   92471.176120      20000.000000  891439.876100   \n",
       "\n",
       "       car purchase amount  \n",
       "count           497.000000  \n",
       "mean          44172.341200  \n",
       "std           10573.520141  \n",
       "min            9000.000000  \n",
       "25%           37714.316590  \n",
       "50%           43994.359720  \n",
       "75%           51130.953790  \n",
       "max           70878.296640  "
      ]
     },
     "execution_count": 40,
     "metadata": {},
     "output_type": "execute_result"
    }
   ],
   "source": [
    "data_df_purchase.describe()"
   ]
  },
  {
   "cell_type": "markdown",
   "id": "935122fd",
   "metadata": {},
   "source": [
    "### 2. Check for any duplicate records or potential errors and correct them as needed."
   ]
  },
  {
   "cell_type": "markdown",
   "id": "06a503a0",
   "metadata": {},
   "source": [
    "**ID column**"
   ]
  },
  {
   "cell_type": "code",
   "execution_count": 41,
   "id": "9753f269",
   "metadata": {},
   "outputs": [
    {
     "data": {
      "text/plain": [
       "<bound method Series.unique of 0      41.851720\n",
       "1      40.870623\n",
       "2      43.152897\n",
       "3      58.271369\n",
       "4      57.313749\n",
       "         ...    \n",
       "495    41.462515\n",
       "496    37.642000\n",
       "497    53.943497\n",
       "498    59.160509\n",
       "499    46.731152\n",
       "Name: age, Length: 497, dtype: float64>"
      ]
     },
     "execution_count": 41,
     "metadata": {},
     "output_type": "execute_result"
    }
   ],
   "source": [
    "data_df_purchase['age'].unique"
   ]
  },
  {
   "cell_type": "code",
   "execution_count": 42,
   "id": "8847a67d",
   "metadata": {},
   "outputs": [
    {
     "data": {
      "text/plain": [
       "<bound method Series.unique of 0      62812.09301\n",
       "1      66646.89292\n",
       "2      53798.55112\n",
       "3      79370.03798\n",
       "4      59729.15130\n",
       "          ...     \n",
       "495    71942.40291\n",
       "496    56039.49793\n",
       "497    68888.77805\n",
       "498    49811.99062\n",
       "499    61370.67766\n",
       "Name: annual Salary, Length: 497, dtype: float64>"
      ]
     },
     "execution_count": 42,
     "metadata": {},
     "output_type": "execute_result"
    }
   ],
   "source": [
    "data_df_purchase['annual Salary'].unique"
   ]
  },
  {
   "cell_type": "code",
   "execution_count": 43,
   "id": "1bf59bff",
   "metadata": {},
   "outputs": [
    {
     "data": {
      "text/plain": [
       "<bound method Series.unique of 0      11609.380910\n",
       "1       9572.957136\n",
       "2      11160.355060\n",
       "3      14426.164850\n",
       "4       5358.712177\n",
       "           ...     \n",
       "495     6995.902524\n",
       "496    12301.456790\n",
       "497    10611.606860\n",
       "498    14013.034510\n",
       "499     9391.341628\n",
       "Name: credit card debt, Length: 497, dtype: float64>"
      ]
     },
     "execution_count": 43,
     "metadata": {},
     "output_type": "execute_result"
    }
   ],
   "source": [
    "data_df_purchase['credit card debt'].unique"
   ]
  },
  {
   "cell_type": "code",
   "execution_count": 44,
   "id": "2164662b",
   "metadata": {},
   "outputs": [
    {
     "data": {
      "text/plain": [
       "<bound method Series.unique of 0      238961.2505\n",
       "1      530973.9078\n",
       "2      638467.1773\n",
       "3      548599.0524\n",
       "4      560304.0671\n",
       "          ...     \n",
       "495    541670.1016\n",
       "496    360419.0988\n",
       "497    764531.3203\n",
       "498    337826.6382\n",
       "499    462946.4924\n",
       "Name: net worth, Length: 497, dtype: float64>"
      ]
     },
     "execution_count": 44,
     "metadata": {},
     "output_type": "execute_result"
    }
   ],
   "source": [
    "data_df_purchase['net worth'].unique"
   ]
  },
  {
   "cell_type": "code",
   "execution_count": 45,
   "id": "0fde4f67",
   "metadata": {},
   "outputs": [
    {
     "data": {
      "text/plain": [
       "<bound method Series.unique of 0      35321.45877\n",
       "1      45115.52566\n",
       "2      42925.70921\n",
       "3      67422.36313\n",
       "4      55915.46248\n",
       "          ...     \n",
       "495    48901.44342\n",
       "496    31491.41457\n",
       "497    64147.28888\n",
       "498    45442.15353\n",
       "499    45107.22566\n",
       "Name: car purchase amount, Length: 497, dtype: float64>"
      ]
     },
     "execution_count": 45,
     "metadata": {},
     "output_type": "execute_result"
    }
   ],
   "source": [
    "data_df_purchase['car purchase amount'].unique"
   ]
  },
  {
   "cell_type": "markdown",
   "id": "7bb59263",
   "metadata": {},
   "source": [
    "### 3. If you did perform some transformation on the dataset, in at least 25 words, explain what and why?"
   ]
  },
  {
   "cell_type": "markdown",
   "id": "17288271",
   "metadata": {},
   "source": [
    "Nothing to change"
   ]
  },
  {
   "cell_type": "markdown",
   "id": "4e064a4f",
   "metadata": {},
   "source": [
    "## 4.4 Data Preparation for Model Training"
   ]
  },
  {
   "cell_type": "markdown",
   "id": "6eed4346",
   "metadata": {},
   "source": [
    "### 1. Convert the dataset into a form a model can ingest."
   ]
  },
  {
   "cell_type": "code",
   "execution_count": 46,
   "id": "9da0d390",
   "metadata": {},
   "outputs": [],
   "source": [
    "data_df_purchase['bins'] = pd.qcut(data_df_purchase[\"car purchase amount\"], 8, retbins=False, labels=[1,2,3,4,5,6,7,8])"
   ]
  },
  {
   "cell_type": "code",
   "execution_count": 47,
   "id": "0214ed4b",
   "metadata": {},
   "outputs": [
    {
     "data": {
      "text/html": [
       "<div>\n",
       "<style scoped>\n",
       "    .dataframe tbody tr th:only-of-type {\n",
       "        vertical-align: middle;\n",
       "    }\n",
       "\n",
       "    .dataframe tbody tr th {\n",
       "        vertical-align: top;\n",
       "    }\n",
       "\n",
       "    .dataframe thead th {\n",
       "        text-align: right;\n",
       "    }\n",
       "</style>\n",
       "<table border=\"1\" class=\"dataframe\">\n",
       "  <thead>\n",
       "    <tr style=\"text-align: right;\">\n",
       "      <th></th>\n",
       "      <th>customer name</th>\n",
       "      <th>customer e-mail</th>\n",
       "      <th>country</th>\n",
       "      <th>gender</th>\n",
       "      <th>age</th>\n",
       "      <th>annual Salary</th>\n",
       "      <th>credit card debt</th>\n",
       "      <th>net worth</th>\n",
       "      <th>car purchase amount</th>\n",
       "      <th>bins</th>\n",
       "    </tr>\n",
       "  </thead>\n",
       "  <tbody>\n",
       "    <tr>\n",
       "      <th>0</th>\n",
       "      <td>Martina Avila</td>\n",
       "      <td>cubilia.Curae.Phasellus@quisaccumsanconvallis.edu</td>\n",
       "      <td>Bulgaria</td>\n",
       "      <td>0</td>\n",
       "      <td>41.851720</td>\n",
       "      <td>62812.09301</td>\n",
       "      <td>11609.380910</td>\n",
       "      <td>238961.2505</td>\n",
       "      <td>35321.45877</td>\n",
       "      <td>2</td>\n",
       "    </tr>\n",
       "    <tr>\n",
       "      <th>1</th>\n",
       "      <td>Harlan Barnes</td>\n",
       "      <td>eu.dolor@diam.co.uk</td>\n",
       "      <td>Belize</td>\n",
       "      <td>0</td>\n",
       "      <td>40.870623</td>\n",
       "      <td>66646.89292</td>\n",
       "      <td>9572.957136</td>\n",
       "      <td>530973.9078</td>\n",
       "      <td>45115.52566</td>\n",
       "      <td>5</td>\n",
       "    </tr>\n",
       "    <tr>\n",
       "      <th>2</th>\n",
       "      <td>Naomi Rodriquez</td>\n",
       "      <td>vulputate.mauris.sagittis@ametconsectetueradip...</td>\n",
       "      <td>Algeria</td>\n",
       "      <td>1</td>\n",
       "      <td>43.152897</td>\n",
       "      <td>53798.55112</td>\n",
       "      <td>11160.355060</td>\n",
       "      <td>638467.1773</td>\n",
       "      <td>42925.70921</td>\n",
       "      <td>4</td>\n",
       "    </tr>\n",
       "    <tr>\n",
       "      <th>3</th>\n",
       "      <td>Jade Cunningham</td>\n",
       "      <td>malesuada@dignissim.com</td>\n",
       "      <td>Cook Islands</td>\n",
       "      <td>1</td>\n",
       "      <td>58.271369</td>\n",
       "      <td>79370.03798</td>\n",
       "      <td>14426.164850</td>\n",
       "      <td>548599.0524</td>\n",
       "      <td>67422.36313</td>\n",
       "      <td>8</td>\n",
       "    </tr>\n",
       "    <tr>\n",
       "      <th>4</th>\n",
       "      <td>Cedric Leach</td>\n",
       "      <td>felis.ullamcorper.viverra@egetmollislectus.net</td>\n",
       "      <td>Brazil</td>\n",
       "      <td>1</td>\n",
       "      <td>57.313749</td>\n",
       "      <td>59729.15130</td>\n",
       "      <td>5358.712177</td>\n",
       "      <td>560304.0671</td>\n",
       "      <td>55915.46248</td>\n",
       "      <td>7</td>\n",
       "    </tr>\n",
       "    <tr>\n",
       "      <th>...</th>\n",
       "      <td>...</td>\n",
       "      <td>...</td>\n",
       "      <td>...</td>\n",
       "      <td>...</td>\n",
       "      <td>...</td>\n",
       "      <td>...</td>\n",
       "      <td>...</td>\n",
       "      <td>...</td>\n",
       "      <td>...</td>\n",
       "      <td>...</td>\n",
       "    </tr>\n",
       "    <tr>\n",
       "      <th>495</th>\n",
       "      <td>Walter</td>\n",
       "      <td>ligula@Cumsociis.ca</td>\n",
       "      <td>Nepal</td>\n",
       "      <td>0</td>\n",
       "      <td>41.462515</td>\n",
       "      <td>71942.40291</td>\n",
       "      <td>6995.902524</td>\n",
       "      <td>541670.1016</td>\n",
       "      <td>48901.44342</td>\n",
       "      <td>6</td>\n",
       "    </tr>\n",
       "    <tr>\n",
       "      <th>496</th>\n",
       "      <td>Vanna</td>\n",
       "      <td>Cum.sociis.natoque@Sedmolestie.edu</td>\n",
       "      <td>Zimbabwe</td>\n",
       "      <td>1</td>\n",
       "      <td>37.642000</td>\n",
       "      <td>56039.49793</td>\n",
       "      <td>12301.456790</td>\n",
       "      <td>360419.0988</td>\n",
       "      <td>31491.41457</td>\n",
       "      <td>1</td>\n",
       "    </tr>\n",
       "    <tr>\n",
       "      <th>497</th>\n",
       "      <td>Pearl</td>\n",
       "      <td>penatibus.et@massanonante.com</td>\n",
       "      <td>Philippines</td>\n",
       "      <td>1</td>\n",
       "      <td>53.943497</td>\n",
       "      <td>68888.77805</td>\n",
       "      <td>10611.606860</td>\n",
       "      <td>764531.3203</td>\n",
       "      <td>64147.28888</td>\n",
       "      <td>8</td>\n",
       "    </tr>\n",
       "    <tr>\n",
       "      <th>498</th>\n",
       "      <td>Nell</td>\n",
       "      <td>Quisque.varius@arcuVivamussit.net</td>\n",
       "      <td>Botswana</td>\n",
       "      <td>1</td>\n",
       "      <td>59.160509</td>\n",
       "      <td>49811.99062</td>\n",
       "      <td>14013.034510</td>\n",
       "      <td>337826.6382</td>\n",
       "      <td>45442.15353</td>\n",
       "      <td>5</td>\n",
       "    </tr>\n",
       "    <tr>\n",
       "      <th>499</th>\n",
       "      <td>Marla</td>\n",
       "      <td>Camaron.marla@hotmail.com</td>\n",
       "      <td>marlal</td>\n",
       "      <td>1</td>\n",
       "      <td>46.731152</td>\n",
       "      <td>61370.67766</td>\n",
       "      <td>9391.341628</td>\n",
       "      <td>462946.4924</td>\n",
       "      <td>45107.22566</td>\n",
       "      <td>5</td>\n",
       "    </tr>\n",
       "  </tbody>\n",
       "</table>\n",
       "<p>497 rows × 10 columns</p>\n",
       "</div>"
      ],
      "text/plain": [
       "       customer name                                    customer e-mail  \\\n",
       "0      Martina Avila  cubilia.Curae.Phasellus@quisaccumsanconvallis.edu   \n",
       "1      Harlan Barnes                                eu.dolor@diam.co.uk   \n",
       "2    Naomi Rodriquez  vulputate.mauris.sagittis@ametconsectetueradip...   \n",
       "3    Jade Cunningham                            malesuada@dignissim.com   \n",
       "4       Cedric Leach     felis.ullamcorper.viverra@egetmollislectus.net   \n",
       "..               ...                                                ...   \n",
       "495           Walter                                ligula@Cumsociis.ca   \n",
       "496            Vanna                 Cum.sociis.natoque@Sedmolestie.edu   \n",
       "497            Pearl                      penatibus.et@massanonante.com   \n",
       "498             Nell                  Quisque.varius@arcuVivamussit.net   \n",
       "499            Marla                          Camaron.marla@hotmail.com   \n",
       "\n",
       "          country  gender        age  annual Salary  credit card debt  \\\n",
       "0        Bulgaria       0  41.851720    62812.09301      11609.380910   \n",
       "1          Belize       0  40.870623    66646.89292       9572.957136   \n",
       "2         Algeria       1  43.152897    53798.55112      11160.355060   \n",
       "3    Cook Islands       1  58.271369    79370.03798      14426.164850   \n",
       "4          Brazil       1  57.313749    59729.15130       5358.712177   \n",
       "..            ...     ...        ...            ...               ...   \n",
       "495         Nepal       0  41.462515    71942.40291       6995.902524   \n",
       "496      Zimbabwe       1  37.642000    56039.49793      12301.456790   \n",
       "497   Philippines       1  53.943497    68888.77805      10611.606860   \n",
       "498      Botswana       1  59.160509    49811.99062      14013.034510   \n",
       "499        marlal       1  46.731152    61370.67766       9391.341628   \n",
       "\n",
       "       net worth  car purchase amount bins  \n",
       "0    238961.2505          35321.45877    2  \n",
       "1    530973.9078          45115.52566    5  \n",
       "2    638467.1773          42925.70921    4  \n",
       "3    548599.0524          67422.36313    8  \n",
       "4    560304.0671          55915.46248    7  \n",
       "..           ...                  ...  ...  \n",
       "495  541670.1016          48901.44342    6  \n",
       "496  360419.0988          31491.41457    1  \n",
       "497  764531.3203          64147.28888    8  \n",
       "498  337826.6382          45442.15353    5  \n",
       "499  462946.4924          45107.22566    5  \n",
       "\n",
       "[497 rows x 10 columns]"
      ]
     },
     "execution_count": 47,
     "metadata": {},
     "output_type": "execute_result"
    }
   ],
   "source": [
    "data_df_purchase"
   ]
  },
  {
   "cell_type": "code",
   "execution_count": 48,
   "id": "3aee2d78",
   "metadata": {},
   "outputs": [],
   "source": [
    "y = data_df_purchase['bins']"
   ]
  },
  {
   "cell_type": "code",
   "execution_count": 49,
   "id": "e4081c6a",
   "metadata": {},
   "outputs": [
    {
     "data": {
      "text/plain": [
       "0      2\n",
       "1      5\n",
       "2      4\n",
       "3      8\n",
       "4      7\n",
       "      ..\n",
       "495    6\n",
       "496    1\n",
       "497    8\n",
       "498    5\n",
       "499    5\n",
       "Name: bins, Length: 497, dtype: category\n",
       "Categories (8, int64): [1 < 2 < 3 < 4 < 5 < 6 < 7 < 8]"
      ]
     },
     "execution_count": 49,
     "metadata": {},
     "output_type": "execute_result"
    }
   ],
   "source": [
    "y"
   ]
  },
  {
   "cell_type": "code",
   "execution_count": 50,
   "id": "86589a82",
   "metadata": {},
   "outputs": [],
   "source": [
    "X = data_df_purchase[['age', 'annual Salary', 'credit card debt', 'net worth']]"
   ]
  },
  {
   "cell_type": "code",
   "execution_count": 51,
   "id": "580775bb",
   "metadata": {},
   "outputs": [
    {
     "data": {
      "text/html": [
       "<div>\n",
       "<style scoped>\n",
       "    .dataframe tbody tr th:only-of-type {\n",
       "        vertical-align: middle;\n",
       "    }\n",
       "\n",
       "    .dataframe tbody tr th {\n",
       "        vertical-align: top;\n",
       "    }\n",
       "\n",
       "    .dataframe thead th {\n",
       "        text-align: right;\n",
       "    }\n",
       "</style>\n",
       "<table border=\"1\" class=\"dataframe\">\n",
       "  <thead>\n",
       "    <tr style=\"text-align: right;\">\n",
       "      <th></th>\n",
       "      <th>age</th>\n",
       "      <th>annual Salary</th>\n",
       "      <th>credit card debt</th>\n",
       "      <th>net worth</th>\n",
       "    </tr>\n",
       "  </thead>\n",
       "  <tbody>\n",
       "    <tr>\n",
       "      <th>0</th>\n",
       "      <td>41.851720</td>\n",
       "      <td>62812.09301</td>\n",
       "      <td>11609.380910</td>\n",
       "      <td>238961.2505</td>\n",
       "    </tr>\n",
       "    <tr>\n",
       "      <th>1</th>\n",
       "      <td>40.870623</td>\n",
       "      <td>66646.89292</td>\n",
       "      <td>9572.957136</td>\n",
       "      <td>530973.9078</td>\n",
       "    </tr>\n",
       "    <tr>\n",
       "      <th>2</th>\n",
       "      <td>43.152897</td>\n",
       "      <td>53798.55112</td>\n",
       "      <td>11160.355060</td>\n",
       "      <td>638467.1773</td>\n",
       "    </tr>\n",
       "    <tr>\n",
       "      <th>3</th>\n",
       "      <td>58.271369</td>\n",
       "      <td>79370.03798</td>\n",
       "      <td>14426.164850</td>\n",
       "      <td>548599.0524</td>\n",
       "    </tr>\n",
       "    <tr>\n",
       "      <th>4</th>\n",
       "      <td>57.313749</td>\n",
       "      <td>59729.15130</td>\n",
       "      <td>5358.712177</td>\n",
       "      <td>560304.0671</td>\n",
       "    </tr>\n",
       "    <tr>\n",
       "      <th>...</th>\n",
       "      <td>...</td>\n",
       "      <td>...</td>\n",
       "      <td>...</td>\n",
       "      <td>...</td>\n",
       "    </tr>\n",
       "    <tr>\n",
       "      <th>495</th>\n",
       "      <td>41.462515</td>\n",
       "      <td>71942.40291</td>\n",
       "      <td>6995.902524</td>\n",
       "      <td>541670.1016</td>\n",
       "    </tr>\n",
       "    <tr>\n",
       "      <th>496</th>\n",
       "      <td>37.642000</td>\n",
       "      <td>56039.49793</td>\n",
       "      <td>12301.456790</td>\n",
       "      <td>360419.0988</td>\n",
       "    </tr>\n",
       "    <tr>\n",
       "      <th>497</th>\n",
       "      <td>53.943497</td>\n",
       "      <td>68888.77805</td>\n",
       "      <td>10611.606860</td>\n",
       "      <td>764531.3203</td>\n",
       "    </tr>\n",
       "    <tr>\n",
       "      <th>498</th>\n",
       "      <td>59.160509</td>\n",
       "      <td>49811.99062</td>\n",
       "      <td>14013.034510</td>\n",
       "      <td>337826.6382</td>\n",
       "    </tr>\n",
       "    <tr>\n",
       "      <th>499</th>\n",
       "      <td>46.731152</td>\n",
       "      <td>61370.67766</td>\n",
       "      <td>9391.341628</td>\n",
       "      <td>462946.4924</td>\n",
       "    </tr>\n",
       "  </tbody>\n",
       "</table>\n",
       "<p>497 rows × 4 columns</p>\n",
       "</div>"
      ],
      "text/plain": [
       "           age  annual Salary  credit card debt    net worth\n",
       "0    41.851720    62812.09301      11609.380910  238961.2505\n",
       "1    40.870623    66646.89292       9572.957136  530973.9078\n",
       "2    43.152897    53798.55112      11160.355060  638467.1773\n",
       "3    58.271369    79370.03798      14426.164850  548599.0524\n",
       "4    57.313749    59729.15130       5358.712177  560304.0671\n",
       "..         ...            ...               ...          ...\n",
       "495  41.462515    71942.40291       6995.902524  541670.1016\n",
       "496  37.642000    56039.49793      12301.456790  360419.0988\n",
       "497  53.943497    68888.77805      10611.606860  764531.3203\n",
       "498  59.160509    49811.99062      14013.034510  337826.6382\n",
       "499  46.731152    61370.67766       9391.341628  462946.4924\n",
       "\n",
       "[497 rows x 4 columns]"
      ]
     },
     "execution_count": 51,
     "metadata": {},
     "output_type": "execute_result"
    }
   ],
   "source": [
    "X"
   ]
  },
  {
   "cell_type": "markdown",
   "id": "6d9d21d3",
   "metadata": {},
   "source": [
    "### 2. This may include shuffling the dataset and aplitting it into train, test and validation. "
   ]
  },
  {
   "cell_type": "code",
   "execution_count": 52,
   "id": "ea626ca7",
   "metadata": {},
   "outputs": [],
   "source": [
    "from sklearn.model_selection import train_test_split"
   ]
  },
  {
   "cell_type": "code",
   "execution_count": 53,
   "id": "5a7ab06d",
   "metadata": {},
   "outputs": [],
   "source": [
    "X_train, X_test_and_val, y_train, y_test_and_val = train_test_split(X, y, train_size=0.8, random_state=42)\n",
    "X_val, X_test, y_val, y_test = train_test_split(X_test_and_val, y_test_and_val, test_size=0.5, random_state=42)"
   ]
  },
  {
   "cell_type": "code",
   "execution_count": 54,
   "id": "c77e670f",
   "metadata": {},
   "outputs": [
    {
     "name": "stdout",
     "output_type": "stream",
     "text": [
      "397 50 50\n"
     ]
    }
   ],
   "source": [
    "print(len(X_train),len(X_val),len(X_test))"
   ]
  },
  {
   "cell_type": "markdown",
   "id": "c0672a21",
   "metadata": {},
   "source": [
    "### 3. Label encoding may be needed "
   ]
  },
  {
   "cell_type": "markdown",
   "id": "44a1ce37",
   "metadata": {},
   "source": [
    "Not needed"
   ]
  },
  {
   "cell_type": "markdown",
   "id": "3c099621",
   "metadata": {},
   "source": [
    "### 4. You may also have to normalize the data."
   ]
  },
  {
   "cell_type": "code",
   "execution_count": 55,
   "id": "677bddce",
   "metadata": {},
   "outputs": [],
   "source": [
    "from sklearn.preprocessing import StandardScaler"
   ]
  },
  {
   "cell_type": "code",
   "execution_count": 56,
   "id": "522184f9",
   "metadata": {},
   "outputs": [],
   "source": [
    "scaler = StandardScaler()"
   ]
  },
  {
   "cell_type": "code",
   "execution_count": 57,
   "id": "196bb622",
   "metadata": {},
   "outputs": [
    {
     "data": {
      "text/html": [
       "<style>#sk-container-id-1 {color: black;}#sk-container-id-1 pre{padding: 0;}#sk-container-id-1 div.sk-toggleable {background-color: white;}#sk-container-id-1 label.sk-toggleable__label {cursor: pointer;display: block;width: 100%;margin-bottom: 0;padding: 0.3em;box-sizing: border-box;text-align: center;}#sk-container-id-1 label.sk-toggleable__label-arrow:before {content: \"▸\";float: left;margin-right: 0.25em;color: #696969;}#sk-container-id-1 label.sk-toggleable__label-arrow:hover:before {color: black;}#sk-container-id-1 div.sk-estimator:hover label.sk-toggleable__label-arrow:before {color: black;}#sk-container-id-1 div.sk-toggleable__content {max-height: 0;max-width: 0;overflow: hidden;text-align: left;background-color: #f0f8ff;}#sk-container-id-1 div.sk-toggleable__content pre {margin: 0.2em;color: black;border-radius: 0.25em;background-color: #f0f8ff;}#sk-container-id-1 input.sk-toggleable__control:checked~div.sk-toggleable__content {max-height: 200px;max-width: 100%;overflow: auto;}#sk-container-id-1 input.sk-toggleable__control:checked~label.sk-toggleable__label-arrow:before {content: \"▾\";}#sk-container-id-1 div.sk-estimator input.sk-toggleable__control:checked~label.sk-toggleable__label {background-color: #d4ebff;}#sk-container-id-1 div.sk-label input.sk-toggleable__control:checked~label.sk-toggleable__label {background-color: #d4ebff;}#sk-container-id-1 input.sk-hidden--visually {border: 0;clip: rect(1px 1px 1px 1px);clip: rect(1px, 1px, 1px, 1px);height: 1px;margin: -1px;overflow: hidden;padding: 0;position: absolute;width: 1px;}#sk-container-id-1 div.sk-estimator {font-family: monospace;background-color: #f0f8ff;border: 1px dotted black;border-radius: 0.25em;box-sizing: border-box;margin-bottom: 0.5em;}#sk-container-id-1 div.sk-estimator:hover {background-color: #d4ebff;}#sk-container-id-1 div.sk-parallel-item::after {content: \"\";width: 100%;border-bottom: 1px solid gray;flex-grow: 1;}#sk-container-id-1 div.sk-label:hover label.sk-toggleable__label {background-color: #d4ebff;}#sk-container-id-1 div.sk-serial::before {content: \"\";position: absolute;border-left: 1px solid gray;box-sizing: border-box;top: 0;bottom: 0;left: 50%;z-index: 0;}#sk-container-id-1 div.sk-serial {display: flex;flex-direction: column;align-items: center;background-color: white;padding-right: 0.2em;padding-left: 0.2em;position: relative;}#sk-container-id-1 div.sk-item {position: relative;z-index: 1;}#sk-container-id-1 div.sk-parallel {display: flex;align-items: stretch;justify-content: center;background-color: white;position: relative;}#sk-container-id-1 div.sk-item::before, #sk-container-id-1 div.sk-parallel-item::before {content: \"\";position: absolute;border-left: 1px solid gray;box-sizing: border-box;top: 0;bottom: 0;left: 50%;z-index: -1;}#sk-container-id-1 div.sk-parallel-item {display: flex;flex-direction: column;z-index: 1;position: relative;background-color: white;}#sk-container-id-1 div.sk-parallel-item:first-child::after {align-self: flex-end;width: 50%;}#sk-container-id-1 div.sk-parallel-item:last-child::after {align-self: flex-start;width: 50%;}#sk-container-id-1 div.sk-parallel-item:only-child::after {width: 0;}#sk-container-id-1 div.sk-dashed-wrapped {border: 1px dashed gray;margin: 0 0.4em 0.5em 0.4em;box-sizing: border-box;padding-bottom: 0.4em;background-color: white;}#sk-container-id-1 div.sk-label label {font-family: monospace;font-weight: bold;display: inline-block;line-height: 1.2em;}#sk-container-id-1 div.sk-label-container {text-align: center;}#sk-container-id-1 div.sk-container {/* jupyter's `normalize.less` sets `[hidden] { display: none; }` but bootstrap.min.css set `[hidden] { display: none !important; }` so we also need the `!important` here to be able to override the default hidden behavior on the sphinx rendered scikit-learn.org. See: https://github.com/scikit-learn/scikit-learn/issues/21755 */display: inline-block !important;position: relative;}#sk-container-id-1 div.sk-text-repr-fallback {display: none;}</style><div id=\"sk-container-id-1\" class=\"sk-top-container\"><div class=\"sk-text-repr-fallback\"><pre>StandardScaler()</pre><b>In a Jupyter environment, please rerun this cell to show the HTML representation or trust the notebook. <br />On GitHub, the HTML representation is unable to render, please try loading this page with nbviewer.org.</b></div><div class=\"sk-container\" hidden><div class=\"sk-item\"><div class=\"sk-estimator sk-toggleable\"><input class=\"sk-toggleable__control sk-hidden--visually\" id=\"sk-estimator-id-1\" type=\"checkbox\" checked><label for=\"sk-estimator-id-1\" class=\"sk-toggleable__label sk-toggleable__label-arrow\">StandardScaler</label><div class=\"sk-toggleable__content\"><pre>StandardScaler()</pre></div></div></div></div></div>"
      ],
      "text/plain": [
       "StandardScaler()"
      ]
     },
     "execution_count": 57,
     "metadata": {},
     "output_type": "execute_result"
    }
   ],
   "source": [
    "scaler.fit(X_train)"
   ]
  },
  {
   "cell_type": "code",
   "execution_count": 58,
   "id": "0552ab03",
   "metadata": {},
   "outputs": [],
   "source": [
    "X_train = scaler.transform(X_train)\n",
    "X_test = scaler.transform(X_test)\n",
    "X_val = scaler.transform(X_val)"
   ]
  },
  {
   "cell_type": "markdown",
   "id": "749b5b24",
   "metadata": {},
   "source": [
    "### 5. Whatever transformation you performed to the data, explain why you did so in at least 25 words."
   ]
  },
  {
   "cell_type": "markdown",
   "id": "026548d7",
   "metadata": {},
   "source": [
    "I used the StandardScaler since the features of my model have a wide variety of ranges within its values. So, the StandardScaler eliminates any bias the predictions may have due to the theory that all the values within the dataset do not have an equal contribution to the model."
   ]
  },
  {
   "cell_type": "markdown",
   "id": "7bf49115",
   "metadata": {},
   "source": [
    "# 5. [HW4] Data Visualization"
   ]
  },
  {
   "cell_type": "markdown",
   "id": "4718b3f3",
   "metadata": {},
   "source": [
    "### 1. Choose any two charts/plots etc to visualize the dataset and its properties. For each viz, ensure your plot is clear and has necessary labels marked."
   ]
  },
  {
   "cell_type": "code",
   "execution_count": 59,
   "id": "9037b499",
   "metadata": {},
   "outputs": [
    {
     "data": {
      "text/html": [
       "<div>\n",
       "<style scoped>\n",
       "    .dataframe tbody tr th:only-of-type {\n",
       "        vertical-align: middle;\n",
       "    }\n",
       "\n",
       "    .dataframe tbody tr th {\n",
       "        vertical-align: top;\n",
       "    }\n",
       "\n",
       "    .dataframe thead th {\n",
       "        text-align: right;\n",
       "    }\n",
       "</style>\n",
       "<table border=\"1\" class=\"dataframe\">\n",
       "  <thead>\n",
       "    <tr style=\"text-align: right;\">\n",
       "      <th></th>\n",
       "      <th>customer name</th>\n",
       "      <th>customer e-mail</th>\n",
       "      <th>country</th>\n",
       "      <th>gender</th>\n",
       "      <th>age</th>\n",
       "      <th>annual Salary</th>\n",
       "      <th>credit card debt</th>\n",
       "      <th>net worth</th>\n",
       "      <th>car purchase amount</th>\n",
       "      <th>bins</th>\n",
       "    </tr>\n",
       "  </thead>\n",
       "  <tbody>\n",
       "    <tr>\n",
       "      <th>282</th>\n",
       "      <td>Clementine X. Powell</td>\n",
       "      <td>quis.pede@Aliquamfringilla.ca</td>\n",
       "      <td>Papua New Guinea</td>\n",
       "      <td>0</td>\n",
       "      <td>41.863615</td>\n",
       "      <td>51539.93045</td>\n",
       "      <td>6932.950306</td>\n",
       "      <td>371355.6935</td>\n",
       "      <td>32828.03477</td>\n",
       "      <td>2</td>\n",
       "    </tr>\n",
       "    <tr>\n",
       "      <th>115</th>\n",
       "      <td>Quamar Cummings</td>\n",
       "      <td>mauris@convallisconvallisdolor.co.uk</td>\n",
       "      <td>Falkland Islands</td>\n",
       "      <td>1</td>\n",
       "      <td>56.852365</td>\n",
       "      <td>75247.18061</td>\n",
       "      <td>13258.466310</td>\n",
       "      <td>659279.2011</td>\n",
       "      <td>67120.89878</td>\n",
       "      <td>8</td>\n",
       "    </tr>\n",
       "    <tr>\n",
       "      <th>5</th>\n",
       "      <td>Carla Hester</td>\n",
       "      <td>mi@Aliquamerat.edu</td>\n",
       "      <td>Liberia</td>\n",
       "      <td>1</td>\n",
       "      <td>56.824893</td>\n",
       "      <td>68499.85162</td>\n",
       "      <td>14179.472440</td>\n",
       "      <td>428485.3604</td>\n",
       "      <td>56611.99784</td>\n",
       "      <td>8</td>\n",
       "    </tr>\n",
       "    <tr>\n",
       "      <th>299</th>\n",
       "      <td>England, Abel D.</td>\n",
       "      <td>enim.commodo@parturientmontesnascetur.org</td>\n",
       "      <td>Åland Islands</td>\n",
       "      <td>1</td>\n",
       "      <td>46.342741</td>\n",
       "      <td>82425.64679</td>\n",
       "      <td>7525.252104</td>\n",
       "      <td>684273.5913</td>\n",
       "      <td>63038.20422</td>\n",
       "      <td>8</td>\n",
       "    </tr>\n",
       "    <tr>\n",
       "      <th>394</th>\n",
       "      <td>Chaney, Reuben I.</td>\n",
       "      <td>Integer@vulputate.net</td>\n",
       "      <td>Saint Pierre and Miquelon</td>\n",
       "      <td>0</td>\n",
       "      <td>61.034245</td>\n",
       "      <td>61824.87980</td>\n",
       "      <td>11211.995020</td>\n",
       "      <td>660897.0146</td>\n",
       "      <td>63140.05082</td>\n",
       "      <td>8</td>\n",
       "    </tr>\n",
       "  </tbody>\n",
       "</table>\n",
       "</div>"
      ],
      "text/plain": [
       "            customer name                            customer e-mail  \\\n",
       "282  Clementine X. Powell              quis.pede@Aliquamfringilla.ca   \n",
       "115       Quamar Cummings       mauris@convallisconvallisdolor.co.uk   \n",
       "5            Carla Hester                         mi@Aliquamerat.edu   \n",
       "299      England, Abel D.  enim.commodo@parturientmontesnascetur.org   \n",
       "394     Chaney, Reuben I.                      Integer@vulputate.net   \n",
       "\n",
       "                       country  gender        age  annual Salary  \\\n",
       "282           Papua New Guinea       0  41.863615    51539.93045   \n",
       "115           Falkland Islands       1  56.852365    75247.18061   \n",
       "5                      Liberia       1  56.824893    68499.85162   \n",
       "299              Åland Islands       1  46.342741    82425.64679   \n",
       "394  Saint Pierre and Miquelon       0  61.034245    61824.87980   \n",
       "\n",
       "     credit card debt    net worth  car purchase amount bins  \n",
       "282       6932.950306  371355.6935          32828.03477    2  \n",
       "115      13258.466310  659279.2011          67120.89878    8  \n",
       "5        14179.472440  428485.3604          56611.99784    8  \n",
       "299       7525.252104  684273.5913          63038.20422    8  \n",
       "394      11211.995020  660897.0146          63140.05082    8  "
      ]
     },
     "execution_count": 59,
     "metadata": {},
     "output_type": "execute_result"
    }
   ],
   "source": [
    "data_df_purchase.sample(5)"
   ]
  },
  {
   "cell_type": "code",
   "execution_count": 60,
   "id": "aff4eb3d",
   "metadata": {
    "scrolled": false
   },
   "outputs": [
    {
     "data": {
      "text/plain": [
       "Text(0, 0.5, 'Amount of cars bought')"
      ]
     },
     "execution_count": 60,
     "metadata": {},
     "output_type": "execute_result"
    },
    {
     "data": {
      "image/png": "[encoded data removed]",
      "text/plain": [
       "<Figure size 640x480 with 1 Axes>"
      ]
     },
     "metadata": {},
     "output_type": "display_data"
    }
   ],
   "source": [
    "data_df_purchase.hist(column = 'car purchase amount',bins=8)  \n",
    "plt.xlabel(\"Money\")\n",
    "plt.ylabel(\"Amount of cars bought\")"
   ]
  },
  {
   "cell_type": "code",
   "execution_count": 61,
   "id": "a90cf283",
   "metadata": {},
   "outputs": [
    {
     "data": {
      "text/plain": [
       "Text(0, 0.5, 'Amount of cars bought')"
      ]
     },
     "execution_count": 61,
     "metadata": {},
     "output_type": "execute_result"
    },
    {
     "data": {
      "image/png": "[encoded data removed]",
      "text/plain": [
       "<Figure size 640x480 with 1 Axes>"
      ]
     },
     "metadata": {},
     "output_type": "display_data"
    }
   ],
   "source": [
    "data_df_purchase.hist(column = 'annual Salary',bins=8)  \n",
    "plt.xlabel(\"Money\")\n",
    "plt.ylabel(\"Amount of cars bought\")"
   ]
  },
  {
   "cell_type": "markdown",
   "id": "2af8e08b",
   "metadata": {},
   "source": [
    "### Write a short description of why you chose the viz and what you understood about the dataset from it."
   ]
  },
  {
   "cell_type": "markdown",
   "id": "3a2af18c",
   "metadata": {},
   "source": [
    "The first graph allows me to understand the price range the bins cover. The second graph shows the annual Salary. Reason why I chose that is to see if the annual Salary plays a major role when it comes to the price of a car, and sure enough, the graphs share a similar structure, hinting that the salary is a major factor when it comes to selecting cars, which is logical."
   ]
  },
  {
   "cell_type": "markdown",
   "id": "5fd8f8ad",
   "metadata": {},
   "source": [
    "# 6 [FINAL] Evaluation Metrics"
   ]
  },
  {
   "cell_type": "markdown",
   "id": "5d1cb1ec",
   "metadata": {},
   "source": [
    "### 1. What metric(s) are you using to evaluate the model?"
   ]
  },
  {
   "cell_type": "markdown",
   "id": "dd121599",
   "metadata": {},
   "source": [
    "I am using the accuracy and F1 score metrics."
   ]
  },
  {
   "cell_type": "markdown",
   "id": "7d36f028",
   "metadata": {},
   "source": [
    "### 2. Write a short description of each metric, including the definition and formula used. Pros and Cons of picking the metric."
   ]
  },
  {
   "cell_type": "markdown",
   "id": "19b1072e",
   "metadata": {},
   "source": [
    "Description\n",
    "- The accuracy metric is a basic metric used to tell how many predictions the model got right, based on a scale between 0 to 1, which is then multiplied by 100 to get the percentage. \n",
    "- The F1 score  is considered a more balanced or harmonic mean of the precision and recall of the model. It is measured between 0 to 1, and multiplied by 100 to get the percentage. \n"
   ]
  },
  {
   "cell_type": "markdown",
   "id": "0c1df3ca",
   "metadata": {},
   "source": [
    "Formula\n",
    "- Accuracy = number of correct predictions / total number of predictions\n",
    "- F1 score = 2 * (precision * recall) / (precision + recall)"
   ]
  },
  {
   "cell_type": "markdown",
   "id": "50dc2c76",
   "metadata": {},
   "source": [
    "Pros and Cons\n",
    "- A pro of using the accuracy metric is that it is easy to interpret. A con is that doesn't take into account the data distribution.\n",
    "\n",
    "- A pro into using the F1 score metric is that it takes into account the data distribution, which provides a better assesment of the model performance. A con would be that it is harder to interpret. The reason being is that the F1 score uses a blend between precision and recall, which may get tedious on its own to interpret."
   ]
  },
  {
   "cell_type": "markdown",
   "id": "87f201e5",
   "metadata": {},
   "source": [
    "# 7. [HW4] Model Training (One of Two) Training"
   ]
  },
  {
   "cell_type": "markdown",
   "id": "a8ca902b",
   "metadata": {},
   "source": [
    "## 7.1 Picking a model"
   ]
  },
  {
   "cell_type": "markdown",
   "id": "e3b79d6c",
   "metadata": {},
   "source": [
    "### 1. Pick any machine learning algorithm that you think works for your problem and data. It needn't necessarily be an algorithm taught in class."
   ]
  },
  {
   "cell_type": "code",
   "execution_count": 62,
   "id": "613dc02e",
   "metadata": {},
   "outputs": [],
   "source": [
    "from sklearn.neighbors import KNeighborsClassifier\n",
    "model_KNN = KNeighborsClassifier()"
   ]
  },
  {
   "cell_type": "markdown",
   "id": "cd2d6196",
   "metadata": {},
   "source": [
    "### 2. Write a short paragraph explaining how the algorithm/model works. Not looking for full stats-oriented explanation. The explanation should help your classmates understand how the model basically works."
   ]
  },
  {
   "cell_type": "markdown",
   "id": "8d9f0e76",
   "metadata": {},
   "source": [
    "The general idea of the K-Nearest Neighbors (KNN) is to classify data based on the ranges between the data values. In my case, since I want to find a range within a certain price amount for a car, since KNN is also used for classification models, it is perfect to put every price within a certain range and categorize it to identify it within the ranges."
   ]
  },
  {
   "cell_type": "markdown",
   "id": "193fdbdf",
   "metadata": {},
   "source": [
    "## 7.2 Model Training"
   ]
  },
  {
   "cell_type": "markdown",
   "id": "c6904c13",
   "metadata": {},
   "source": [
    "### 1. Train your model and report your model performance on your validation dataset."
   ]
  },
  {
   "cell_type": "code",
   "execution_count": 63,
   "id": "0b9ce017",
   "metadata": {},
   "outputs": [
    {
     "data": {
      "text/html": [
       "<style>#sk-container-id-2 {color: black;}#sk-container-id-2 pre{padding: 0;}#sk-container-id-2 div.sk-toggleable {background-color: white;}#sk-container-id-2 label.sk-toggleable__label {cursor: pointer;display: block;width: 100%;margin-bottom: 0;padding: 0.3em;box-sizing: border-box;text-align: center;}#sk-container-id-2 label.sk-toggleable__label-arrow:before {content: \"▸\";float: left;margin-right: 0.25em;color: #696969;}#sk-container-id-2 label.sk-toggleable__label-arrow:hover:before {color: black;}#sk-container-id-2 div.sk-estimator:hover label.sk-toggleable__label-arrow:before {color: black;}#sk-container-id-2 div.sk-toggleable__content {max-height: 0;max-width: 0;overflow: hidden;text-align: left;background-color: #f0f8ff;}#sk-container-id-2 div.sk-toggleable__content pre {margin: 0.2em;color: black;border-radius: 0.25em;background-color: #f0f8ff;}#sk-container-id-2 input.sk-toggleable__control:checked~div.sk-toggleable__content {max-height: 200px;max-width: 100%;overflow: auto;}#sk-container-id-2 input.sk-toggleable__control:checked~label.sk-toggleable__label-arrow:before {content: \"▾\";}#sk-container-id-2 div.sk-estimator input.sk-toggleable__control:checked~label.sk-toggleable__label {background-color: #d4ebff;}#sk-container-id-2 div.sk-label input.sk-toggleable__control:checked~label.sk-toggleable__label {background-color: #d4ebff;}#sk-container-id-2 input.sk-hidden--visually {border: 0;clip: rect(1px 1px 1px 1px);clip: rect(1px, 1px, 1px, 1px);height: 1px;margin: -1px;overflow: hidden;padding: 0;position: absolute;width: 1px;}#sk-container-id-2 div.sk-estimator {font-family: monospace;background-color: #f0f8ff;border: 1px dotted black;border-radius: 0.25em;box-sizing: border-box;margin-bottom: 0.5em;}#sk-container-id-2 div.sk-estimator:hover {background-color: #d4ebff;}#sk-container-id-2 div.sk-parallel-item::after {content: \"\";width: 100%;border-bottom: 1px solid gray;flex-grow: 1;}#sk-container-id-2 div.sk-label:hover label.sk-toggleable__label {background-color: #d4ebff;}#sk-container-id-2 div.sk-serial::before {content: \"\";position: absolute;border-left: 1px solid gray;box-sizing: border-box;top: 0;bottom: 0;left: 50%;z-index: 0;}#sk-container-id-2 div.sk-serial {display: flex;flex-direction: column;align-items: center;background-color: white;padding-right: 0.2em;padding-left: 0.2em;position: relative;}#sk-container-id-2 div.sk-item {position: relative;z-index: 1;}#sk-container-id-2 div.sk-parallel {display: flex;align-items: stretch;justify-content: center;background-color: white;position: relative;}#sk-container-id-2 div.sk-item::before, #sk-container-id-2 div.sk-parallel-item::before {content: \"\";position: absolute;border-left: 1px solid gray;box-sizing: border-box;top: 0;bottom: 0;left: 50%;z-index: -1;}#sk-container-id-2 div.sk-parallel-item {display: flex;flex-direction: column;z-index: 1;position: relative;background-color: white;}#sk-container-id-2 div.sk-parallel-item:first-child::after {align-self: flex-end;width: 50%;}#sk-container-id-2 div.sk-parallel-item:last-child::after {align-self: flex-start;width: 50%;}#sk-container-id-2 div.sk-parallel-item:only-child::after {width: 0;}#sk-container-id-2 div.sk-dashed-wrapped {border: 1px dashed gray;margin: 0 0.4em 0.5em 0.4em;box-sizing: border-box;padding-bottom: 0.4em;background-color: white;}#sk-container-id-2 div.sk-label label {font-family: monospace;font-weight: bold;display: inline-block;line-height: 1.2em;}#sk-container-id-2 div.sk-label-container {text-align: center;}#sk-container-id-2 div.sk-container {/* jupyter's `normalize.less` sets `[hidden] { display: none; }` but bootstrap.min.css set `[hidden] { display: none !important; }` so we also need the `!important` here to be able to override the default hidden behavior on the sphinx rendered scikit-learn.org. See: https://github.com/scikit-learn/scikit-learn/issues/21755 */display: inline-block !important;position: relative;}#sk-container-id-2 div.sk-text-repr-fallback {display: none;}</style><div id=\"sk-container-id-2\" class=\"sk-top-container\"><div class=\"sk-text-repr-fallback\"><pre>KNeighborsClassifier()</pre><b>In a Jupyter environment, please rerun this cell to show the HTML representation or trust the notebook. <br />On GitHub, the HTML representation is unable to render, please try loading this page with nbviewer.org.</b></div><div class=\"sk-container\" hidden><div class=\"sk-item\"><div class=\"sk-estimator sk-toggleable\"><input class=\"sk-toggleable__control sk-hidden--visually\" id=\"sk-estimator-id-2\" type=\"checkbox\" checked><label for=\"sk-estimator-id-2\" class=\"sk-toggleable__label sk-toggleable__label-arrow\">KNeighborsClassifier</label><div class=\"sk-toggleable__content\"><pre>KNeighborsClassifier()</pre></div></div></div></div></div>"
      ],
      "text/plain": [
       "KNeighborsClassifier()"
      ]
     },
     "execution_count": 63,
     "metadata": {},
     "output_type": "execute_result"
    }
   ],
   "source": [
    "model_KNN.fit(X_train, y_train)"
   ]
  },
  {
   "cell_type": "code",
   "execution_count": 64,
   "id": "119124a4",
   "metadata": {},
   "outputs": [
    {
     "data": {
      "text/plain": [
       "0.54"
      ]
     },
     "execution_count": 64,
     "metadata": {},
     "output_type": "execute_result"
    }
   ],
   "source": [
    "model_KNN.score(X_val, y_val)"
   ]
  },
  {
   "cell_type": "markdown",
   "id": "a5334828",
   "metadata": {},
   "source": [
    "### 2. Choose appropiate tasks that go along with your model"
   ]
  },
  {
   "cell_type": "markdown",
   "id": "d23d2ac9",
   "metadata": {},
   "source": [
    "**If you are using K-means clustering, plot the elbow curve. Choose an appropiate K.**"
   ]
  },
  {
   "cell_type": "code",
   "execution_count": 65,
   "id": "c81675c1",
   "metadata": {},
   "outputs": [],
   "source": [
    "from sklearn.metrics import f1_score"
   ]
  },
  {
   "cell_type": "code",
   "execution_count": 66,
   "id": "5e81c50f",
   "metadata": {},
   "outputs": [],
   "source": [
    "F1_score = []\n",
    "for k in range(1, 60):\n",
    "    model_temp = KNeighborsClassifier(n_neighbors=k)\n",
    "    model_temp.fit(X_train, y_train)\n",
    "    y_pred = model_temp.predict(X_val) \n",
    "    F1_score.append(f1_score(y_val, y_pred, average='weighted'))"
   ]
  },
  {
   "cell_type": "code",
   "execution_count": 67,
   "id": "62515a7b",
   "metadata": {
    "scrolled": false
   },
   "outputs": [
    {
     "data": {
      "image/png": "[encoded data removed]",
      "text/plain": [
       "<Figure size 800x400 with 1 Axes>"
      ]
     },
     "metadata": {},
     "output_type": "display_data"
    }
   ],
   "source": [
    "plt.figure(figsize=(8, 4))\n",
    "index = 0;\n",
    "for k in range(1,60):  \n",
    "    plt.plot(k, F1_score[index],color='blue', marker='o', markerfacecolor='orange', markersize=5)\n",
    "    index = index+1\n",
    "plt.title('F1 Score for each N_Neighbor Value')\n",
    "plt.xlabel('N_Neighbor value')\n",
    "plt.ylabel('F1 Score')\n",
    "plt.show()"
   ]
  },
  {
   "cell_type": "code",
   "execution_count": 68,
   "id": "9441cb67",
   "metadata": {},
   "outputs": [
    {
     "data": {
      "text/html": [
       "<style>#sk-container-id-3 {color: black;}#sk-container-id-3 pre{padding: 0;}#sk-container-id-3 div.sk-toggleable {background-color: white;}#sk-container-id-3 label.sk-toggleable__label {cursor: pointer;display: block;width: 100%;margin-bottom: 0;padding: 0.3em;box-sizing: border-box;text-align: center;}#sk-container-id-3 label.sk-toggleable__label-arrow:before {content: \"▸\";float: left;margin-right: 0.25em;color: #696969;}#sk-container-id-3 label.sk-toggleable__label-arrow:hover:before {color: black;}#sk-container-id-3 div.sk-estimator:hover label.sk-toggleable__label-arrow:before {color: black;}#sk-container-id-3 div.sk-toggleable__content {max-height: 0;max-width: 0;overflow: hidden;text-align: left;background-color: #f0f8ff;}#sk-container-id-3 div.sk-toggleable__content pre {margin: 0.2em;color: black;border-radius: 0.25em;background-color: #f0f8ff;}#sk-container-id-3 input.sk-toggleable__control:checked~div.sk-toggleable__content {max-height: 200px;max-width: 100%;overflow: auto;}#sk-container-id-3 input.sk-toggleable__control:checked~label.sk-toggleable__label-arrow:before {content: \"▾\";}#sk-container-id-3 div.sk-estimator input.sk-toggleable__control:checked~label.sk-toggleable__label {background-color: #d4ebff;}#sk-container-id-3 div.sk-label input.sk-toggleable__control:checked~label.sk-toggleable__label {background-color: #d4ebff;}#sk-container-id-3 input.sk-hidden--visually {border: 0;clip: rect(1px 1px 1px 1px);clip: rect(1px, 1px, 1px, 1px);height: 1px;margin: -1px;overflow: hidden;padding: 0;position: absolute;width: 1px;}#sk-container-id-3 div.sk-estimator {font-family: monospace;background-color: #f0f8ff;border: 1px dotted black;border-radius: 0.25em;box-sizing: border-box;margin-bottom: 0.5em;}#sk-container-id-3 div.sk-estimator:hover {background-color: #d4ebff;}#sk-container-id-3 div.sk-parallel-item::after {content: \"\";width: 100%;border-bottom: 1px solid gray;flex-grow: 1;}#sk-container-id-3 div.sk-label:hover label.sk-toggleable__label {background-color: #d4ebff;}#sk-container-id-3 div.sk-serial::before {content: \"\";position: absolute;border-left: 1px solid gray;box-sizing: border-box;top: 0;bottom: 0;left: 50%;z-index: 0;}#sk-container-id-3 div.sk-serial {display: flex;flex-direction: column;align-items: center;background-color: white;padding-right: 0.2em;padding-left: 0.2em;position: relative;}#sk-container-id-3 div.sk-item {position: relative;z-index: 1;}#sk-container-id-3 div.sk-parallel {display: flex;align-items: stretch;justify-content: center;background-color: white;position: relative;}#sk-container-id-3 div.sk-item::before, #sk-container-id-3 div.sk-parallel-item::before {content: \"\";position: absolute;border-left: 1px solid gray;box-sizing: border-box;top: 0;bottom: 0;left: 50%;z-index: -1;}#sk-container-id-3 div.sk-parallel-item {display: flex;flex-direction: column;z-index: 1;position: relative;background-color: white;}#sk-container-id-3 div.sk-parallel-item:first-child::after {align-self: flex-end;width: 50%;}#sk-container-id-3 div.sk-parallel-item:last-child::after {align-self: flex-start;width: 50%;}#sk-container-id-3 div.sk-parallel-item:only-child::after {width: 0;}#sk-container-id-3 div.sk-dashed-wrapped {border: 1px dashed gray;margin: 0 0.4em 0.5em 0.4em;box-sizing: border-box;padding-bottom: 0.4em;background-color: white;}#sk-container-id-3 div.sk-label label {font-family: monospace;font-weight: bold;display: inline-block;line-height: 1.2em;}#sk-container-id-3 div.sk-label-container {text-align: center;}#sk-container-id-3 div.sk-container {/* jupyter's `normalize.less` sets `[hidden] { display: none; }` but bootstrap.min.css set `[hidden] { display: none !important; }` so we also need the `!important` here to be able to override the default hidden behavior on the sphinx rendered scikit-learn.org. See: https://github.com/scikit-learn/scikit-learn/issues/21755 */display: inline-block !important;position: relative;}#sk-container-id-3 div.sk-text-repr-fallback {display: none;}</style><div id=\"sk-container-id-3\" class=\"sk-top-container\"><div class=\"sk-text-repr-fallback\"><pre>KNeighborsClassifier(n_neighbors=54)</pre><b>In a Jupyter environment, please rerun this cell to show the HTML representation or trust the notebook. <br />On GitHub, the HTML representation is unable to render, please try loading this page with nbviewer.org.</b></div><div class=\"sk-container\" hidden><div class=\"sk-item\"><div class=\"sk-estimator sk-toggleable\"><input class=\"sk-toggleable__control sk-hidden--visually\" id=\"sk-estimator-id-3\" type=\"checkbox\" checked><label for=\"sk-estimator-id-3\" class=\"sk-toggleable__label sk-toggleable__label-arrow\">KNeighborsClassifier</label><div class=\"sk-toggleable__content\"><pre>KNeighborsClassifier(n_neighbors=54)</pre></div></div></div></div></div>"
      ],
      "text/plain": [
       "KNeighborsClassifier(n_neighbors=54)"
      ]
     },
     "execution_count": 68,
     "metadata": {},
     "output_type": "execute_result"
    }
   ],
   "source": [
    "model_KNN = KNeighborsClassifier(n_neighbors=54)\n",
    "model_KNN.fit(X_train, y_train)"
   ]
  },
  {
   "cell_type": "code",
   "execution_count": 69,
   "id": "7d9209da",
   "metadata": {},
   "outputs": [
    {
     "data": {
      "text/plain": [
       "0.62"
      ]
     },
     "execution_count": 69,
     "metadata": {},
     "output_type": "execute_result"
    }
   ],
   "source": [
    "model_KNN.score(X_val, y_val)"
   ]
  },
  {
   "cell_type": "markdown",
   "id": "d7d9a327",
   "metadata": {},
   "source": [
    "### 3. List the hyperparameters of the model"
   ]
  },
  {
   "cell_type": "markdown",
   "id": "0a9746b5",
   "metadata": {},
   "source": [
    "- n_neighbors"
   ]
  },
  {
   "cell_type": "markdown",
   "id": "cf7a7717",
   "metadata": {},
   "source": [
    "# 8 [FINAL] Model (Two of Two) Training"
   ]
  },
  {
   "cell_type": "markdown",
   "id": "beb18209",
   "metadata": {},
   "source": [
    "## 8.1 Picking another model"
   ]
  },
  {
   "cell_type": "markdown",
   "id": "4b51bb80",
   "metadata": {},
   "source": [
    "### 1. Pick another machine learning algorithm that you think works for your problem and data. It needn't necessary be an algorithm taught in class."
   ]
  },
  {
   "cell_type": "code",
   "execution_count": 70,
   "id": "90c00aeb",
   "metadata": {},
   "outputs": [],
   "source": [
    "from sklearn.ensemble import RandomForestClassifier\n",
    "model_rf = RandomForestClassifier(random_state=42)"
   ]
  },
  {
   "cell_type": "markdown",
   "id": "910bf95b",
   "metadata": {},
   "source": [
    "### 2. Write a short paragraph explaining how the algorithm/model works. Not looking for full stats-oriented explanation. The explanation should help your classmates understand how the model basically works."
   ]
  },
  {
   "cell_type": "markdown",
   "id": "406ad7b9",
   "metadata": {},
   "source": [
    "The Random Forest algorithm is a tree-based suprevised learning algorithm that uses predictions to either classify a data point or determine its approximate value. Although this means it can apply to either regression or classification, I will be applying it to a classification model."
   ]
  },
  {
   "cell_type": "markdown",
   "id": "9e1405a2",
   "metadata": {},
   "source": [
    "## 8.2 Model Training"
   ]
  },
  {
   "cell_type": "markdown",
   "id": "6086e732",
   "metadata": {},
   "source": [
    "### 1. Train your model. Use any of the cross-validation methods available to pick your best model."
   ]
  },
  {
   "cell_type": "code",
   "execution_count": 71,
   "id": "565deed3",
   "metadata": {},
   "outputs": [
    {
     "data": {
      "text/html": [
       "<style>#sk-container-id-4 {color: black;}#sk-container-id-4 pre{padding: 0;}#sk-container-id-4 div.sk-toggleable {background-color: white;}#sk-container-id-4 label.sk-toggleable__label {cursor: pointer;display: block;width: 100%;margin-bottom: 0;padding: 0.3em;box-sizing: border-box;text-align: center;}#sk-container-id-4 label.sk-toggleable__label-arrow:before {content: \"▸\";float: left;margin-right: 0.25em;color: #696969;}#sk-container-id-4 label.sk-toggleable__label-arrow:hover:before {color: black;}#sk-container-id-4 div.sk-estimator:hover label.sk-toggleable__label-arrow:before {color: black;}#sk-container-id-4 div.sk-toggleable__content {max-height: 0;max-width: 0;overflow: hidden;text-align: left;background-color: #f0f8ff;}#sk-container-id-4 div.sk-toggleable__content pre {margin: 0.2em;color: black;border-radius: 0.25em;background-color: #f0f8ff;}#sk-container-id-4 input.sk-toggleable__control:checked~div.sk-toggleable__content {max-height: 200px;max-width: 100%;overflow: auto;}#sk-container-id-4 input.sk-toggleable__control:checked~label.sk-toggleable__label-arrow:before {content: \"▾\";}#sk-container-id-4 div.sk-estimator input.sk-toggleable__control:checked~label.sk-toggleable__label {background-color: #d4ebff;}#sk-container-id-4 div.sk-label input.sk-toggleable__control:checked~label.sk-toggleable__label {background-color: #d4ebff;}#sk-container-id-4 input.sk-hidden--visually {border: 0;clip: rect(1px 1px 1px 1px);clip: rect(1px, 1px, 1px, 1px);height: 1px;margin: -1px;overflow: hidden;padding: 0;position: absolute;width: 1px;}#sk-container-id-4 div.sk-estimator {font-family: monospace;background-color: #f0f8ff;border: 1px dotted black;border-radius: 0.25em;box-sizing: border-box;margin-bottom: 0.5em;}#sk-container-id-4 div.sk-estimator:hover {background-color: #d4ebff;}#sk-container-id-4 div.sk-parallel-item::after {content: \"\";width: 100%;border-bottom: 1px solid gray;flex-grow: 1;}#sk-container-id-4 div.sk-label:hover label.sk-toggleable__label {background-color: #d4ebff;}#sk-container-id-4 div.sk-serial::before {content: \"\";position: absolute;border-left: 1px solid gray;box-sizing: border-box;top: 0;bottom: 0;left: 50%;z-index: 0;}#sk-container-id-4 div.sk-serial {display: flex;flex-direction: column;align-items: center;background-color: white;padding-right: 0.2em;padding-left: 0.2em;position: relative;}#sk-container-id-4 div.sk-item {position: relative;z-index: 1;}#sk-container-id-4 div.sk-parallel {display: flex;align-items: stretch;justify-content: center;background-color: white;position: relative;}#sk-container-id-4 div.sk-item::before, #sk-container-id-4 div.sk-parallel-item::before {content: \"\";position: absolute;border-left: 1px solid gray;box-sizing: border-box;top: 0;bottom: 0;left: 50%;z-index: -1;}#sk-container-id-4 div.sk-parallel-item {display: flex;flex-direction: column;z-index: 1;position: relative;background-color: white;}#sk-container-id-4 div.sk-parallel-item:first-child::after {align-self: flex-end;width: 50%;}#sk-container-id-4 div.sk-parallel-item:last-child::after {align-self: flex-start;width: 50%;}#sk-container-id-4 div.sk-parallel-item:only-child::after {width: 0;}#sk-container-id-4 div.sk-dashed-wrapped {border: 1px dashed gray;margin: 0 0.4em 0.5em 0.4em;box-sizing: border-box;padding-bottom: 0.4em;background-color: white;}#sk-container-id-4 div.sk-label label {font-family: monospace;font-weight: bold;display: inline-block;line-height: 1.2em;}#sk-container-id-4 div.sk-label-container {text-align: center;}#sk-container-id-4 div.sk-container {/* jupyter's `normalize.less` sets `[hidden] { display: none; }` but bootstrap.min.css set `[hidden] { display: none !important; }` so we also need the `!important` here to be able to override the default hidden behavior on the sphinx rendered scikit-learn.org. See: https://github.com/scikit-learn/scikit-learn/issues/21755 */display: inline-block !important;position: relative;}#sk-container-id-4 div.sk-text-repr-fallback {display: none;}</style><div id=\"sk-container-id-4\" class=\"sk-top-container\"><div class=\"sk-text-repr-fallback\"><pre>RandomForestClassifier(random_state=42)</pre><b>In a Jupyter environment, please rerun this cell to show the HTML representation or trust the notebook. <br />On GitHub, the HTML representation is unable to render, please try loading this page with nbviewer.org.</b></div><div class=\"sk-container\" hidden><div class=\"sk-item\"><div class=\"sk-estimator sk-toggleable\"><input class=\"sk-toggleable__control sk-hidden--visually\" id=\"sk-estimator-id-4\" type=\"checkbox\" checked><label for=\"sk-estimator-id-4\" class=\"sk-toggleable__label sk-toggleable__label-arrow\">RandomForestClassifier</label><div class=\"sk-toggleable__content\"><pre>RandomForestClassifier(random_state=42)</pre></div></div></div></div></div>"
      ],
      "text/plain": [
       "RandomForestClassifier(random_state=42)"
      ]
     },
     "execution_count": 71,
     "metadata": {},
     "output_type": "execute_result"
    }
   ],
   "source": [
    "model_rf.fit(X_train, y_train)"
   ]
  },
  {
   "cell_type": "code",
   "execution_count": 72,
   "id": "801c10d2",
   "metadata": {},
   "outputs": [
    {
     "data": {
      "text/plain": [
       "0.54"
      ]
     },
     "execution_count": 72,
     "metadata": {},
     "output_type": "execute_result"
    }
   ],
   "source": [
    "model_rf.score(X_val, y_val)"
   ]
  },
  {
   "cell_type": "markdown",
   "id": "135928c2",
   "metadata": {},
   "source": [
    "### 2. Choose appropiate tasks that go along with your model"
   ]
  },
  {
   "cell_type": "markdown",
   "id": "944bc799",
   "metadata": {},
   "source": [
    "**If you are using K-means clustering, plot the elbow curve. Choose an appropiate K.**"
   ]
  },
  {
   "cell_type": "code",
   "execution_count": 73,
   "id": "cd491016",
   "metadata": {},
   "outputs": [],
   "source": [
    "from sklearn.model_selection import RandomizedSearchCV"
   ]
  },
  {
   "cell_type": "markdown",
   "id": "c1eeb927",
   "metadata": {},
   "source": [
    "**Hyperparameters based on a range of values**"
   ]
  },
  {
   "cell_type": "code",
   "execution_count": 74,
   "id": "9102422f",
   "metadata": {},
   "outputs": [],
   "source": [
    "param_grid = {\n",
    "    'n_estimators': [25, 50, 100, 150],\n",
    "    'max_depth': [3, 6, 9],\n",
    "    'max_leaf_nodes': [3, 6, 9],\n",
    "}"
   ]
  },
  {
   "cell_type": "code",
   "execution_count": 75,
   "id": "3588c396",
   "metadata": {},
   "outputs": [],
   "source": [
    "model_rf_search = RandomizedSearchCV(RandomForestClassifier(),param_grid, random_state=42)"
   ]
  },
  {
   "cell_type": "code",
   "execution_count": 76,
   "id": "f6917008",
   "metadata": {},
   "outputs": [
    {
     "name": "stdout",
     "output_type": "stream",
     "text": [
      "RandomForestClassifier(max_depth=9, max_leaf_nodes=9, n_estimators=150)\n"
     ]
    }
   ],
   "source": [
    "model_rf_search.fit(X_train, y_train)\n",
    "print(model_rf_search.best_estimator_)"
   ]
  },
  {
   "cell_type": "code",
   "execution_count": 77,
   "id": "8c8526cb",
   "metadata": {},
   "outputs": [
    {
     "data": {
      "text/html": [
       "<style>#sk-container-id-5 {color: black;}#sk-container-id-5 pre{padding: 0;}#sk-container-id-5 div.sk-toggleable {background-color: white;}#sk-container-id-5 label.sk-toggleable__label {cursor: pointer;display: block;width: 100%;margin-bottom: 0;padding: 0.3em;box-sizing: border-box;text-align: center;}#sk-container-id-5 label.sk-toggleable__label-arrow:before {content: \"▸\";float: left;margin-right: 0.25em;color: #696969;}#sk-container-id-5 label.sk-toggleable__label-arrow:hover:before {color: black;}#sk-container-id-5 div.sk-estimator:hover label.sk-toggleable__label-arrow:before {color: black;}#sk-container-id-5 div.sk-toggleable__content {max-height: 0;max-width: 0;overflow: hidden;text-align: left;background-color: #f0f8ff;}#sk-container-id-5 div.sk-toggleable__content pre {margin: 0.2em;color: black;border-radius: 0.25em;background-color: #f0f8ff;}#sk-container-id-5 input.sk-toggleable__control:checked~div.sk-toggleable__content {max-height: 200px;max-width: 100%;overflow: auto;}#sk-container-id-5 input.sk-toggleable__control:checked~label.sk-toggleable__label-arrow:before {content: \"▾\";}#sk-container-id-5 div.sk-estimator input.sk-toggleable__control:checked~label.sk-toggleable__label {background-color: #d4ebff;}#sk-container-id-5 div.sk-label input.sk-toggleable__control:checked~label.sk-toggleable__label {background-color: #d4ebff;}#sk-container-id-5 input.sk-hidden--visually {border: 0;clip: rect(1px 1px 1px 1px);clip: rect(1px, 1px, 1px, 1px);height: 1px;margin: -1px;overflow: hidden;padding: 0;position: absolute;width: 1px;}#sk-container-id-5 div.sk-estimator {font-family: monospace;background-color: #f0f8ff;border: 1px dotted black;border-radius: 0.25em;box-sizing: border-box;margin-bottom: 0.5em;}#sk-container-id-5 div.sk-estimator:hover {background-color: #d4ebff;}#sk-container-id-5 div.sk-parallel-item::after {content: \"\";width: 100%;border-bottom: 1px solid gray;flex-grow: 1;}#sk-container-id-5 div.sk-label:hover label.sk-toggleable__label {background-color: #d4ebff;}#sk-container-id-5 div.sk-serial::before {content: \"\";position: absolute;border-left: 1px solid gray;box-sizing: border-box;top: 0;bottom: 0;left: 50%;z-index: 0;}#sk-container-id-5 div.sk-serial {display: flex;flex-direction: column;align-items: center;background-color: white;padding-right: 0.2em;padding-left: 0.2em;position: relative;}#sk-container-id-5 div.sk-item {position: relative;z-index: 1;}#sk-container-id-5 div.sk-parallel {display: flex;align-items: stretch;justify-content: center;background-color: white;position: relative;}#sk-container-id-5 div.sk-item::before, #sk-container-id-5 div.sk-parallel-item::before {content: \"\";position: absolute;border-left: 1px solid gray;box-sizing: border-box;top: 0;bottom: 0;left: 50%;z-index: -1;}#sk-container-id-5 div.sk-parallel-item {display: flex;flex-direction: column;z-index: 1;position: relative;background-color: white;}#sk-container-id-5 div.sk-parallel-item:first-child::after {align-self: flex-end;width: 50%;}#sk-container-id-5 div.sk-parallel-item:last-child::after {align-self: flex-start;width: 50%;}#sk-container-id-5 div.sk-parallel-item:only-child::after {width: 0;}#sk-container-id-5 div.sk-dashed-wrapped {border: 1px dashed gray;margin: 0 0.4em 0.5em 0.4em;box-sizing: border-box;padding-bottom: 0.4em;background-color: white;}#sk-container-id-5 div.sk-label label {font-family: monospace;font-weight: bold;display: inline-block;line-height: 1.2em;}#sk-container-id-5 div.sk-label-container {text-align: center;}#sk-container-id-5 div.sk-container {/* jupyter's `normalize.less` sets `[hidden] { display: none; }` but bootstrap.min.css set `[hidden] { display: none !important; }` so we also need the `!important` here to be able to override the default hidden behavior on the sphinx rendered scikit-learn.org. See: https://github.com/scikit-learn/scikit-learn/issues/21755 */display: inline-block !important;position: relative;}#sk-container-id-5 div.sk-text-repr-fallback {display: none;}</style><div id=\"sk-container-id-5\" class=\"sk-top-container\"><div class=\"sk-text-repr-fallback\"><pre>RandomForestClassifier(max_depth=9, max_leaf_nodes=9, n_estimators=150,\n",
       "                       random_state=42)</pre><b>In a Jupyter environment, please rerun this cell to show the HTML representation or trust the notebook. <br />On GitHub, the HTML representation is unable to render, please try loading this page with nbviewer.org.</b></div><div class=\"sk-container\" hidden><div class=\"sk-item\"><div class=\"sk-estimator sk-toggleable\"><input class=\"sk-toggleable__control sk-hidden--visually\" id=\"sk-estimator-id-5\" type=\"checkbox\" checked><label for=\"sk-estimator-id-5\" class=\"sk-toggleable__label sk-toggleable__label-arrow\">RandomForestClassifier</label><div class=\"sk-toggleable__content\"><pre>RandomForestClassifier(max_depth=9, max_leaf_nodes=9, n_estimators=150,\n",
       "                       random_state=42)</pre></div></div></div></div></div>"
      ],
      "text/plain": [
       "RandomForestClassifier(max_depth=9, max_leaf_nodes=9, n_estimators=150,\n",
       "                       random_state=42)"
      ]
     },
     "execution_count": 77,
     "metadata": {},
     "output_type": "execute_result"
    }
   ],
   "source": [
    "model_rf = RandomForestClassifier(max_depth=9, max_leaf_nodes=9, n_estimators=150, random_state=42)\n",
    "model_rf.fit(X_train, y_train)"
   ]
  },
  {
   "cell_type": "code",
   "execution_count": 78,
   "id": "d3655927",
   "metadata": {},
   "outputs": [
    {
     "data": {
      "text/plain": [
       "0.52"
      ]
     },
     "execution_count": 78,
     "metadata": {},
     "output_type": "execute_result"
    }
   ],
   "source": [
    "model_rf.score(X_val, y_val)"
   ]
  },
  {
   "cell_type": "markdown",
   "id": "5af2a28c",
   "metadata": {},
   "source": [
    "**Hyperparameters based on a range of values with default values available**"
   ]
  },
  {
   "cell_type": "code",
   "execution_count": 79,
   "id": "ad6bc704",
   "metadata": {},
   "outputs": [],
   "source": [
    "param_grid = {\n",
    "    'n_estimators': [25, 50, 100, 150],\n",
    "    'max_depth': [3, 6, 9, None],\n",
    "    'max_leaf_nodes': [3, 6, 9, None],\n",
    "}"
   ]
  },
  {
   "cell_type": "code",
   "execution_count": 80,
   "id": "d0fa8681",
   "metadata": {},
   "outputs": [],
   "source": [
    "model_rf_search = RandomizedSearchCV(RandomForestClassifier(),param_grid, random_state=42)"
   ]
  },
  {
   "cell_type": "code",
   "execution_count": 81,
   "id": "5e0c3ab8",
   "metadata": {},
   "outputs": [
    {
     "name": "stdout",
     "output_type": "stream",
     "text": [
      "RandomForestClassifier(max_depth=9, n_estimators=25)\n"
     ]
    }
   ],
   "source": [
    "model_rf_search.fit(X_train, y_train)\n",
    "print(model_rf_search.best_estimator_)"
   ]
  },
  {
   "cell_type": "code",
   "execution_count": 82,
   "id": "5b016638",
   "metadata": {},
   "outputs": [
    {
     "data": {
      "text/html": [
       "<style>#sk-container-id-6 {color: black;}#sk-container-id-6 pre{padding: 0;}#sk-container-id-6 div.sk-toggleable {background-color: white;}#sk-container-id-6 label.sk-toggleable__label {cursor: pointer;display: block;width: 100%;margin-bottom: 0;padding: 0.3em;box-sizing: border-box;text-align: center;}#sk-container-id-6 label.sk-toggleable__label-arrow:before {content: \"▸\";float: left;margin-right: 0.25em;color: #696969;}#sk-container-id-6 label.sk-toggleable__label-arrow:hover:before {color: black;}#sk-container-id-6 div.sk-estimator:hover label.sk-toggleable__label-arrow:before {color: black;}#sk-container-id-6 div.sk-toggleable__content {max-height: 0;max-width: 0;overflow: hidden;text-align: left;background-color: #f0f8ff;}#sk-container-id-6 div.sk-toggleable__content pre {margin: 0.2em;color: black;border-radius: 0.25em;background-color: #f0f8ff;}#sk-container-id-6 input.sk-toggleable__control:checked~div.sk-toggleable__content {max-height: 200px;max-width: 100%;overflow: auto;}#sk-container-id-6 input.sk-toggleable__control:checked~label.sk-toggleable__label-arrow:before {content: \"▾\";}#sk-container-id-6 div.sk-estimator input.sk-toggleable__control:checked~label.sk-toggleable__label {background-color: #d4ebff;}#sk-container-id-6 div.sk-label input.sk-toggleable__control:checked~label.sk-toggleable__label {background-color: #d4ebff;}#sk-container-id-6 input.sk-hidden--visually {border: 0;clip: rect(1px 1px 1px 1px);clip: rect(1px, 1px, 1px, 1px);height: 1px;margin: -1px;overflow: hidden;padding: 0;position: absolute;width: 1px;}#sk-container-id-6 div.sk-estimator {font-family: monospace;background-color: #f0f8ff;border: 1px dotted black;border-radius: 0.25em;box-sizing: border-box;margin-bottom: 0.5em;}#sk-container-id-6 div.sk-estimator:hover {background-color: #d4ebff;}#sk-container-id-6 div.sk-parallel-item::after {content: \"\";width: 100%;border-bottom: 1px solid gray;flex-grow: 1;}#sk-container-id-6 div.sk-label:hover label.sk-toggleable__label {background-color: #d4ebff;}#sk-container-id-6 div.sk-serial::before {content: \"\";position: absolute;border-left: 1px solid gray;box-sizing: border-box;top: 0;bottom: 0;left: 50%;z-index: 0;}#sk-container-id-6 div.sk-serial {display: flex;flex-direction: column;align-items: center;background-color: white;padding-right: 0.2em;padding-left: 0.2em;position: relative;}#sk-container-id-6 div.sk-item {position: relative;z-index: 1;}#sk-container-id-6 div.sk-parallel {display: flex;align-items: stretch;justify-content: center;background-color: white;position: relative;}#sk-container-id-6 div.sk-item::before, #sk-container-id-6 div.sk-parallel-item::before {content: \"\";position: absolute;border-left: 1px solid gray;box-sizing: border-box;top: 0;bottom: 0;left: 50%;z-index: -1;}#sk-container-id-6 div.sk-parallel-item {display: flex;flex-direction: column;z-index: 1;position: relative;background-color: white;}#sk-container-id-6 div.sk-parallel-item:first-child::after {align-self: flex-end;width: 50%;}#sk-container-id-6 div.sk-parallel-item:last-child::after {align-self: flex-start;width: 50%;}#sk-container-id-6 div.sk-parallel-item:only-child::after {width: 0;}#sk-container-id-6 div.sk-dashed-wrapped {border: 1px dashed gray;margin: 0 0.4em 0.5em 0.4em;box-sizing: border-box;padding-bottom: 0.4em;background-color: white;}#sk-container-id-6 div.sk-label label {font-family: monospace;font-weight: bold;display: inline-block;line-height: 1.2em;}#sk-container-id-6 div.sk-label-container {text-align: center;}#sk-container-id-6 div.sk-container {/* jupyter's `normalize.less` sets `[hidden] { display: none; }` but bootstrap.min.css set `[hidden] { display: none !important; }` so we also need the `!important` here to be able to override the default hidden behavior on the sphinx rendered scikit-learn.org. See: https://github.com/scikit-learn/scikit-learn/issues/21755 */display: inline-block !important;position: relative;}#sk-container-id-6 div.sk-text-repr-fallback {display: none;}</style><div id=\"sk-container-id-6\" class=\"sk-top-container\"><div class=\"sk-text-repr-fallback\"><pre>RandomForestClassifier(n_estimators=50, random_state=42)</pre><b>In a Jupyter environment, please rerun this cell to show the HTML representation or trust the notebook. <br />On GitHub, the HTML representation is unable to render, please try loading this page with nbviewer.org.</b></div><div class=\"sk-container\" hidden><div class=\"sk-item\"><div class=\"sk-estimator sk-toggleable\"><input class=\"sk-toggleable__control sk-hidden--visually\" id=\"sk-estimator-id-6\" type=\"checkbox\" checked><label for=\"sk-estimator-id-6\" class=\"sk-toggleable__label sk-toggleable__label-arrow\">RandomForestClassifier</label><div class=\"sk-toggleable__content\"><pre>RandomForestClassifier(n_estimators=50, random_state=42)</pre></div></div></div></div></div>"
      ],
      "text/plain": [
       "RandomForestClassifier(n_estimators=50, random_state=42)"
      ]
     },
     "execution_count": 82,
     "metadata": {},
     "output_type": "execute_result"
    }
   ],
   "source": [
    "model_rf = RandomForestClassifier(n_estimators=50, random_state=42)\n",
    "model_rf.fit(X_train, y_train)"
   ]
  },
  {
   "cell_type": "code",
   "execution_count": 83,
   "id": "38c10d28",
   "metadata": {},
   "outputs": [
    {
     "data": {
      "text/plain": [
       "0.58"
      ]
     },
     "execution_count": 83,
     "metadata": {},
     "output_type": "execute_result"
    }
   ],
   "source": [
    "model_rf.score(X_val, y_val)"
   ]
  },
  {
   "cell_type": "markdown",
   "id": "e6bdf4d9",
   "metadata": {},
   "source": [
    "**Hyperparameters based on only n_estimator value**"
   ]
  },
  {
   "cell_type": "code",
   "execution_count": 84,
   "id": "570731e8",
   "metadata": {},
   "outputs": [],
   "source": [
    "F1_score = []\n",
    "for k in range(50, 155, 5):\n",
    "    model_temp = RandomForestClassifier(n_estimators=k, random_state=42)\n",
    "    model_temp.fit(X_train, y_train)\n",
    "    y_pred = model_temp.predict(X_val) \n",
    "    F1_score.append(f1_score(y_val, y_pred, average='weighted'))"
   ]
  },
  {
   "cell_type": "code",
   "execution_count": 85,
   "id": "5dc5e210",
   "metadata": {},
   "outputs": [
    {
     "data": {
      "text/plain": [
       "Text(0, 0.5, 'F1 Score')"
      ]
     },
     "execution_count": 85,
     "metadata": {},
     "output_type": "execute_result"
    },
    {
     "data": {
      "image/png": "[encoded data removed]",
      "text/plain": [
       "<Figure size 800x400 with 1 Axes>"
      ]
     },
     "metadata": {},
     "output_type": "display_data"
    }
   ],
   "source": [
    "plt.figure(figsize=(8, 4))\n",
    "index = 0;\n",
    "for k in range(50, 155, 5):  \n",
    "    plt.plot(k, F1_score[index], color='blue', marker='o', markerfacecolor='orange', markersize=5)\n",
    "    index = index + 1\n",
    "plt.title('F1 Score for each N_Estimator Value')\n",
    "plt.xlabel('N_Estimator value')\n",
    "plt.ylabel('F1 Score')"
   ]
  },
  {
   "cell_type": "code",
   "execution_count": 86,
   "id": "d6b10748",
   "metadata": {},
   "outputs": [],
   "source": [
    "model_rf = RandomForestClassifier(n_estimators=50, random_state=42)"
   ]
  },
  {
   "cell_type": "code",
   "execution_count": 87,
   "id": "f45b9e30",
   "metadata": {},
   "outputs": [
    {
     "data": {
      "text/html": [
       "<style>#sk-container-id-7 {color: black;}#sk-container-id-7 pre{padding: 0;}#sk-container-id-7 div.sk-toggleable {background-color: white;}#sk-container-id-7 label.sk-toggleable__label {cursor: pointer;display: block;width: 100%;margin-bottom: 0;padding: 0.3em;box-sizing: border-box;text-align: center;}#sk-container-id-7 label.sk-toggleable__label-arrow:before {content: \"▸\";float: left;margin-right: 0.25em;color: #696969;}#sk-container-id-7 label.sk-toggleable__label-arrow:hover:before {color: black;}#sk-container-id-7 div.sk-estimator:hover label.sk-toggleable__label-arrow:before {color: black;}#sk-container-id-7 div.sk-toggleable__content {max-height: 0;max-width: 0;overflow: hidden;text-align: left;background-color: #f0f8ff;}#sk-container-id-7 div.sk-toggleable__content pre {margin: 0.2em;color: black;border-radius: 0.25em;background-color: #f0f8ff;}#sk-container-id-7 input.sk-toggleable__control:checked~div.sk-toggleable__content {max-height: 200px;max-width: 100%;overflow: auto;}#sk-container-id-7 input.sk-toggleable__control:checked~label.sk-toggleable__label-arrow:before {content: \"▾\";}#sk-container-id-7 div.sk-estimator input.sk-toggleable__control:checked~label.sk-toggleable__label {background-color: #d4ebff;}#sk-container-id-7 div.sk-label input.sk-toggleable__control:checked~label.sk-toggleable__label {background-color: #d4ebff;}#sk-container-id-7 input.sk-hidden--visually {border: 0;clip: rect(1px 1px 1px 1px);clip: rect(1px, 1px, 1px, 1px);height: 1px;margin: -1px;overflow: hidden;padding: 0;position: absolute;width: 1px;}#sk-container-id-7 div.sk-estimator {font-family: monospace;background-color: #f0f8ff;border: 1px dotted black;border-radius: 0.25em;box-sizing: border-box;margin-bottom: 0.5em;}#sk-container-id-7 div.sk-estimator:hover {background-color: #d4ebff;}#sk-container-id-7 div.sk-parallel-item::after {content: \"\";width: 100%;border-bottom: 1px solid gray;flex-grow: 1;}#sk-container-id-7 div.sk-label:hover label.sk-toggleable__label {background-color: #d4ebff;}#sk-container-id-7 div.sk-serial::before {content: \"\";position: absolute;border-left: 1px solid gray;box-sizing: border-box;top: 0;bottom: 0;left: 50%;z-index: 0;}#sk-container-id-7 div.sk-serial {display: flex;flex-direction: column;align-items: center;background-color: white;padding-right: 0.2em;padding-left: 0.2em;position: relative;}#sk-container-id-7 div.sk-item {position: relative;z-index: 1;}#sk-container-id-7 div.sk-parallel {display: flex;align-items: stretch;justify-content: center;background-color: white;position: relative;}#sk-container-id-7 div.sk-item::before, #sk-container-id-7 div.sk-parallel-item::before {content: \"\";position: absolute;border-left: 1px solid gray;box-sizing: border-box;top: 0;bottom: 0;left: 50%;z-index: -1;}#sk-container-id-7 div.sk-parallel-item {display: flex;flex-direction: column;z-index: 1;position: relative;background-color: white;}#sk-container-id-7 div.sk-parallel-item:first-child::after {align-self: flex-end;width: 50%;}#sk-container-id-7 div.sk-parallel-item:last-child::after {align-self: flex-start;width: 50%;}#sk-container-id-7 div.sk-parallel-item:only-child::after {width: 0;}#sk-container-id-7 div.sk-dashed-wrapped {border: 1px dashed gray;margin: 0 0.4em 0.5em 0.4em;box-sizing: border-box;padding-bottom: 0.4em;background-color: white;}#sk-container-id-7 div.sk-label label {font-family: monospace;font-weight: bold;display: inline-block;line-height: 1.2em;}#sk-container-id-7 div.sk-label-container {text-align: center;}#sk-container-id-7 div.sk-container {/* jupyter's `normalize.less` sets `[hidden] { display: none; }` but bootstrap.min.css set `[hidden] { display: none !important; }` so we also need the `!important` here to be able to override the default hidden behavior on the sphinx rendered scikit-learn.org. See: https://github.com/scikit-learn/scikit-learn/issues/21755 */display: inline-block !important;position: relative;}#sk-container-id-7 div.sk-text-repr-fallback {display: none;}</style><div id=\"sk-container-id-7\" class=\"sk-top-container\"><div class=\"sk-text-repr-fallback\"><pre>RandomForestClassifier(n_estimators=50, random_state=42)</pre><b>In a Jupyter environment, please rerun this cell to show the HTML representation or trust the notebook. <br />On GitHub, the HTML representation is unable to render, please try loading this page with nbviewer.org.</b></div><div class=\"sk-container\" hidden><div class=\"sk-item\"><div class=\"sk-estimator sk-toggleable\"><input class=\"sk-toggleable__control sk-hidden--visually\" id=\"sk-estimator-id-7\" type=\"checkbox\" checked><label for=\"sk-estimator-id-7\" class=\"sk-toggleable__label sk-toggleable__label-arrow\">RandomForestClassifier</label><div class=\"sk-toggleable__content\"><pre>RandomForestClassifier(n_estimators=50, random_state=42)</pre></div></div></div></div></div>"
      ],
      "text/plain": [
       "RandomForestClassifier(n_estimators=50, random_state=42)"
      ]
     },
     "execution_count": 87,
     "metadata": {},
     "output_type": "execute_result"
    }
   ],
   "source": [
    "model_rf.fit(X_train,y_train)"
   ]
  },
  {
   "cell_type": "code",
   "execution_count": 88,
   "id": "34b6e4d0",
   "metadata": {},
   "outputs": [
    {
     "data": {
      "text/plain": [
       "0.58"
      ]
     },
     "execution_count": 88,
     "metadata": {},
     "output_type": "execute_result"
    }
   ],
   "source": [
    "model_rf.score(X_val, y_val)"
   ]
  },
  {
   "cell_type": "markdown",
   "id": "00740ba0",
   "metadata": {},
   "source": [
    "### 3. List the hyperparameters of the model"
   ]
  },
  {
   "cell_type": "markdown",
   "id": "e37dd5c0",
   "metadata": {},
   "source": [
    "- max depth (Default worked best)\n",
    "- max_leaf_nodes (Default worked best)\n",
    "- n_estimators"
   ]
  },
  {
   "cell_type": "markdown",
   "id": "e16d0cad",
   "metadata": {},
   "source": [
    "# 9 [FINAL] Report Results"
   ]
  },
  {
   "cell_type": "markdown",
   "id": "e2a6cae6",
   "metadata": {},
   "source": [
    "### 1. Test both your models and report the performance. Which is a better model?"
   ]
  },
  {
   "cell_type": "code",
   "execution_count": 89,
   "id": "428b50b8",
   "metadata": {},
   "outputs": [],
   "source": [
    "from sklearn.metrics import classification_report, confusion_matrix"
   ]
  },
  {
   "cell_type": "markdown",
   "id": "753f54da",
   "metadata": {},
   "source": [
    "**K-Nearest Neighbors (KNN)**"
   ]
  },
  {
   "cell_type": "code",
   "execution_count": 90,
   "id": "d089de33",
   "metadata": {},
   "outputs": [],
   "source": [
    "model_KNN = KNeighborsClassifier(n_neighbors=54)\n",
    "model_KNN.fit(X_train, y_train)\n",
    "prediction = model_KNN.predict(X_val)"
   ]
  },
  {
   "cell_type": "code",
   "execution_count": 91,
   "id": "7dcadd3b",
   "metadata": {},
   "outputs": [
    {
     "name": "stdout",
     "output_type": "stream",
     "text": [
      "              precision    recall  f1-score   support\n",
      "\n",
      "           1       0.67      1.00      0.80         4\n",
      "           2       1.00      0.50      0.67         4\n",
      "           3       0.50      0.33      0.40         6\n",
      "           4       0.36      0.67      0.47         6\n",
      "           5       0.57      0.57      0.57         7\n",
      "           6       0.50      0.43      0.46         7\n",
      "           7       0.78      0.70      0.74        10\n",
      "           8       1.00      0.83      0.91         6\n",
      "\n",
      "    accuracy                           0.62        50\n",
      "   macro avg       0.67      0.63      0.63        50\n",
      "weighted avg       0.66      0.62      0.62        50\n",
      "\n"
     ]
    }
   ],
   "source": [
    "print(classification_report(y_val, prediction))"
   ]
  },
  {
   "cell_type": "markdown",
   "id": "3f8ebdd8",
   "metadata": {},
   "source": [
    "**Random Forest**"
   ]
  },
  {
   "cell_type": "code",
   "execution_count": 92,
   "id": "700d0d5b",
   "metadata": {},
   "outputs": [],
   "source": [
    "model_rf = RandomForestClassifier(n_estimators=50, random_state=42)\n",
    "model_rf.fit(X_train, y_train)\n",
    "prediction = model_rf.predict(X_val)"
   ]
  },
  {
   "cell_type": "code",
   "execution_count": 93,
   "id": "7f7caa60",
   "metadata": {},
   "outputs": [
    {
     "name": "stdout",
     "output_type": "stream",
     "text": [
      "              precision    recall  f1-score   support\n",
      "\n",
      "           1       0.67      1.00      0.80         4\n",
      "           2       0.60      0.75      0.67         4\n",
      "           3       0.50      0.33      0.40         6\n",
      "           4       0.43      0.50      0.46         6\n",
      "           5       0.25      0.14      0.18         7\n",
      "           6       0.56      0.71      0.63         7\n",
      "           7       0.70      0.70      0.70        10\n",
      "           8       0.80      0.67      0.73         6\n",
      "\n",
      "    accuracy                           0.58        50\n",
      "   macro avg       0.56      0.60      0.57        50\n",
      "weighted avg       0.56      0.58      0.56        50\n",
      "\n"
     ]
    }
   ],
   "source": [
    "print(classification_report(y_val, prediction))"
   ]
  },
  {
   "cell_type": "markdown",
   "id": "a3ac260a",
   "metadata": {},
   "source": [
    "### 2. Write a summary to your project aka summarize what you did in the project."
   ]
  },
  {
   "cell_type": "markdown",
   "id": "1e9076d5",
   "metadata": {},
   "source": [
    "The goal for this project is that I wanted to be able to classify each price for each car within a certain price range based on 8 bins of data, as shown in the first histogram. That is why I used a dataset, whose information I was able to use to categorize each car's price based on these features, net worth, annual salary, age and credit card debt. While exploring the dataset, I chose two algorithm models, the K-Nearest Neighbors (KNN) classifier and the Random Forest classifier. To choose which model would best handle this task, I decided to investigate each model and see what model gave me the best metric scores. In this case, I judged them using the accuracy and F1_score metrics. However, before I could conclude which model had the best results, I had to make sure I was passing in the correct hyperparameter values for each model. So, after a couple of testing and plotting for each model, I was able to choose the most optimized hyperparameters for each model. Then, after testing both models, I was able to conclude that the KNN model has a slight advantage over the Random Forest model. KNN had an accuracy of 62%, while Random Forest had an accuracy of 58%, a 4% difference. In conclusion, with the KNN model implemented and working properly, I feel that I was able to create an effective classifier that will determine a car's price based on the features previously mentioned."
   ]
  },
  {
   "cell_type": "markdown",
   "id": "824725a9",
   "metadata": {},
   "source": [
    "# Ethics Question"
   ]
  },
  {
   "cell_type": "markdown",
   "id": "c12cb5a0",
   "metadata": {},
   "source": [
    "### We had a reading and/or activity around an ethics topic every week. You were given a question prompt to answer. Choose any week and answer the question from that week in a more detailed manner here, about 300 words or more."
   ]
  },
  {
   "cell_type": "markdown",
   "id": "a792ee70",
   "metadata": {},
   "source": [
    "**Week 8: Ethical Responsibilities for companies**"
   ]
  },
  {
   "cell_type": "markdown",
   "id": "f6c223eb",
   "metadata": {},
   "source": [
    "I do not find it ethically acceptable for companies to present users with excessively long privacy policies. Companies know that their average consumers do not read those policies due to the level of complexity it handles. Although their argument is, \"we presented them with the information, so if they agreed, they know what they are agreeing to.\" This vague mentality is the reason why there are issues with these privacy policies. An example would be the following. Acknowledging that the person in question is an average individual with no experience within the engineering field, gets called by a company to renovate his home. Since he needed a renovation, he accepts the offer and is presented with the policy of how the company will renovate his house. The problem is, since the person does not understand any of the calculations nor methods used to renovate his house, he just accepts it and hopes for the best. Allowing the engineers of the company to basically do whatever the company wants, including stuff like using cheap materials or installing stuff that have nothing to do with renovations, such as cameras or microphones. The point is, bombarding the user with so many technicalities in areas they are not familiar with to overwhelm them into just accepting the privacy policies is foul play and there should be legal regulations within the nations to prevent such foul play. However, these situations could be avoided if companies adopted more ethical responsibilities. Some ethical responsibilities include using an outline and a summary of the main points within their policies. A general overview of what topic they want to point out for the customer to quickly glance and decide whether the policies should be reviewed further or not. Another thing includes simplifying the terminology used within these policies so that everyone can understand the main point the companies want to show. Finally, I do agree that there should there be legal regulations or industry standards mandating a maximum length for privacy policies."
   ]
  },
  {
   "cell_type": "code",
   "execution_count": null,
   "id": "b94fabc4",
   "metadata": {},
   "outputs": [],
   "source": []
  }
 ],
 "metadata": {
  "kernelspec": {
   "display_name": "Python 3 (ipykernel)",
   "language": "python",
   "name": "python3"
  },
  "language_info": {
   "codemirror_mode": {
    "name": "ipython",
    "version": 3
   },
   "file_extension": ".py",
   "mimetype": "text/x-python",
   "name": "python",
   "nbconvert_exporter": "python",
   "pygments_lexer": "ipython3",
   "version": "3.10.1"
  }
 },
 "nbformat": 4,
 "nbformat_minor": 5
}
